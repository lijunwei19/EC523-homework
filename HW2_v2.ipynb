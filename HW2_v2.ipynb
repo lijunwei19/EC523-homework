{
  "nbformat": 4,
  "nbformat_minor": 0,
  "metadata": {
    "colab": {
      "name": "Copy of HW2_v2.ipynb",
      "provenance": [],
      "collapsed_sections": [],
      "include_colab_link": true
    },
    "kernelspec": {
      "display_name": "Python 3",
      "language": "python",
      "name": "python3"
    },
    "language_info": {
      "codemirror_mode": {
        "name": "ipython",
        "version": 3
      },
      "file_extension": ".py",
      "mimetype": "text/x-python",
      "name": "python",
      "nbconvert_exporter": "python",
      "pygments_lexer": "ipython3",
      "version": "3.7.0"
    },
    "widgets": {
      "application/vnd.jupyter.widget-state+json": {
        "dd400367f4144f2a85c47fefa4b10272": {
          "model_module": "@jupyter-widgets/controls",
          "model_name": "HBoxModel",
          "state": {
            "_view_name": "HBoxView",
            "_dom_classes": [],
            "_model_name": "HBoxModel",
            "_view_module": "@jupyter-widgets/controls",
            "_model_module_version": "1.5.0",
            "_view_count": null,
            "_view_module_version": "1.5.0",
            "box_style": "",
            "layout": "IPY_MODEL_eb82991faba44967834f09c237dae1c4",
            "_model_module": "@jupyter-widgets/controls",
            "children": [
              "IPY_MODEL_26360dd4d5274e60bce51dd0d5e69345",
              "IPY_MODEL_7ebfffd53f714d6997d3760ed2b31224"
            ]
          }
        },
        "eb82991faba44967834f09c237dae1c4": {
          "model_module": "@jupyter-widgets/base",
          "model_name": "LayoutModel",
          "state": {
            "_view_name": "LayoutView",
            "grid_template_rows": null,
            "right": null,
            "justify_content": null,
            "_view_module": "@jupyter-widgets/base",
            "overflow": null,
            "_model_module_version": "1.2.0",
            "_view_count": null,
            "flex_flow": null,
            "width": null,
            "min_width": null,
            "border": null,
            "align_items": null,
            "bottom": null,
            "_model_module": "@jupyter-widgets/base",
            "top": null,
            "grid_column": null,
            "overflow_y": null,
            "overflow_x": null,
            "grid_auto_flow": null,
            "grid_area": null,
            "grid_template_columns": null,
            "flex": null,
            "_model_name": "LayoutModel",
            "justify_items": null,
            "grid_row": null,
            "max_height": null,
            "align_content": null,
            "visibility": null,
            "align_self": null,
            "height": null,
            "min_height": null,
            "padding": null,
            "grid_auto_rows": null,
            "grid_gap": null,
            "max_width": null,
            "order": null,
            "_view_module_version": "1.2.0",
            "grid_template_areas": null,
            "object_position": null,
            "object_fit": null,
            "grid_auto_columns": null,
            "margin": null,
            "display": null,
            "left": null
          }
        },
        "26360dd4d5274e60bce51dd0d5e69345": {
          "model_module": "@jupyter-widgets/controls",
          "model_name": "FloatProgressModel",
          "state": {
            "_view_name": "ProgressView",
            "style": "IPY_MODEL_6bae8ec2e7224a09b6449157dcf53a6c",
            "_dom_classes": [],
            "description": "",
            "_model_name": "FloatProgressModel",
            "bar_style": "info",
            "max": 1,
            "_view_module": "@jupyter-widgets/controls",
            "_model_module_version": "1.5.0",
            "value": 1,
            "_view_count": null,
            "_view_module_version": "1.5.0",
            "orientation": "horizontal",
            "min": 0,
            "description_tooltip": null,
            "_model_module": "@jupyter-widgets/controls",
            "layout": "IPY_MODEL_d3c31ce292e84a4a8fa61b5990766c14"
          }
        },
        "7ebfffd53f714d6997d3760ed2b31224": {
          "model_module": "@jupyter-widgets/controls",
          "model_name": "HTMLModel",
          "state": {
            "_view_name": "HTMLView",
            "style": "IPY_MODEL_2634addfcf3043e7912f2b10b8ff8382",
            "_dom_classes": [],
            "description": "",
            "_model_name": "HTMLModel",
            "placeholder": "​",
            "_view_module": "@jupyter-widgets/controls",
            "_model_module_version": "1.5.0",
            "value": " 182042624/? [00:30&lt;00:00, 15565711.45it/s]",
            "_view_count": null,
            "_view_module_version": "1.5.0",
            "description_tooltip": null,
            "_model_module": "@jupyter-widgets/controls",
            "layout": "IPY_MODEL_5a72d8852e384002b120a2b5881451a8"
          }
        },
        "6bae8ec2e7224a09b6449157dcf53a6c": {
          "model_module": "@jupyter-widgets/controls",
          "model_name": "ProgressStyleModel",
          "state": {
            "_view_name": "StyleView",
            "_model_name": "ProgressStyleModel",
            "description_width": "initial",
            "_view_module": "@jupyter-widgets/base",
            "_model_module_version": "1.5.0",
            "_view_count": null,
            "_view_module_version": "1.2.0",
            "bar_color": null,
            "_model_module": "@jupyter-widgets/controls"
          }
        },
        "d3c31ce292e84a4a8fa61b5990766c14": {
          "model_module": "@jupyter-widgets/base",
          "model_name": "LayoutModel",
          "state": {
            "_view_name": "LayoutView",
            "grid_template_rows": null,
            "right": null,
            "justify_content": null,
            "_view_module": "@jupyter-widgets/base",
            "overflow": null,
            "_model_module_version": "1.2.0",
            "_view_count": null,
            "flex_flow": null,
            "width": null,
            "min_width": null,
            "border": null,
            "align_items": null,
            "bottom": null,
            "_model_module": "@jupyter-widgets/base",
            "top": null,
            "grid_column": null,
            "overflow_y": null,
            "overflow_x": null,
            "grid_auto_flow": null,
            "grid_area": null,
            "grid_template_columns": null,
            "flex": null,
            "_model_name": "LayoutModel",
            "justify_items": null,
            "grid_row": null,
            "max_height": null,
            "align_content": null,
            "visibility": null,
            "align_self": null,
            "height": null,
            "min_height": null,
            "padding": null,
            "grid_auto_rows": null,
            "grid_gap": null,
            "max_width": null,
            "order": null,
            "_view_module_version": "1.2.0",
            "grid_template_areas": null,
            "object_position": null,
            "object_fit": null,
            "grid_auto_columns": null,
            "margin": null,
            "display": null,
            "left": null
          }
        },
        "2634addfcf3043e7912f2b10b8ff8382": {
          "model_module": "@jupyter-widgets/controls",
          "model_name": "DescriptionStyleModel",
          "state": {
            "_view_name": "StyleView",
            "_model_name": "DescriptionStyleModel",
            "description_width": "",
            "_view_module": "@jupyter-widgets/base",
            "_model_module_version": "1.5.0",
            "_view_count": null,
            "_view_module_version": "1.2.0",
            "_model_module": "@jupyter-widgets/controls"
          }
        },
        "5a72d8852e384002b120a2b5881451a8": {
          "model_module": "@jupyter-widgets/base",
          "model_name": "LayoutModel",
          "state": {
            "_view_name": "LayoutView",
            "grid_template_rows": null,
            "right": null,
            "justify_content": null,
            "_view_module": "@jupyter-widgets/base",
            "overflow": null,
            "_model_module_version": "1.2.0",
            "_view_count": null,
            "flex_flow": null,
            "width": null,
            "min_width": null,
            "border": null,
            "align_items": null,
            "bottom": null,
            "_model_module": "@jupyter-widgets/base",
            "top": null,
            "grid_column": null,
            "overflow_y": null,
            "overflow_x": null,
            "grid_auto_flow": null,
            "grid_area": null,
            "grid_template_columns": null,
            "flex": null,
            "_model_name": "LayoutModel",
            "justify_items": null,
            "grid_row": null,
            "max_height": null,
            "align_content": null,
            "visibility": null,
            "align_self": null,
            "height": null,
            "min_height": null,
            "padding": null,
            "grid_auto_rows": null,
            "grid_gap": null,
            "max_width": null,
            "order": null,
            "_view_module_version": "1.2.0",
            "grid_template_areas": null,
            "object_position": null,
            "object_fit": null,
            "grid_auto_columns": null,
            "margin": null,
            "display": null,
            "left": null
          }
        },
        "79698e6b5ce34b189512433f1a04e829": {
          "model_module": "@jupyter-widgets/controls",
          "model_name": "HBoxModel",
          "state": {
            "_view_name": "HBoxView",
            "_dom_classes": [],
            "_model_name": "HBoxModel",
            "_view_module": "@jupyter-widgets/controls",
            "_model_module_version": "1.5.0",
            "_view_count": null,
            "_view_module_version": "1.5.0",
            "box_style": "",
            "layout": "IPY_MODEL_85f5515bd71f45eba4e13d7fb4973c66",
            "_model_module": "@jupyter-widgets/controls",
            "children": [
              "IPY_MODEL_1a2b8309bc0f4fceb3a48c00f8adbfed",
              "IPY_MODEL_0295ea5381ca4368b50e1dca78653c45"
            ]
          }
        },
        "85f5515bd71f45eba4e13d7fb4973c66": {
          "model_module": "@jupyter-widgets/base",
          "model_name": "LayoutModel",
          "state": {
            "_view_name": "LayoutView",
            "grid_template_rows": null,
            "right": null,
            "justify_content": null,
            "_view_module": "@jupyter-widgets/base",
            "overflow": null,
            "_model_module_version": "1.2.0",
            "_view_count": null,
            "flex_flow": null,
            "width": null,
            "min_width": null,
            "border": null,
            "align_items": null,
            "bottom": null,
            "_model_module": "@jupyter-widgets/base",
            "top": null,
            "grid_column": null,
            "overflow_y": null,
            "overflow_x": null,
            "grid_auto_flow": null,
            "grid_area": null,
            "grid_template_columns": null,
            "flex": null,
            "_model_name": "LayoutModel",
            "justify_items": null,
            "grid_row": null,
            "max_height": null,
            "align_content": null,
            "visibility": null,
            "align_self": null,
            "height": null,
            "min_height": null,
            "padding": null,
            "grid_auto_rows": null,
            "grid_gap": null,
            "max_width": null,
            "order": null,
            "_view_module_version": "1.2.0",
            "grid_template_areas": null,
            "object_position": null,
            "object_fit": null,
            "grid_auto_columns": null,
            "margin": null,
            "display": null,
            "left": null
          }
        },
        "1a2b8309bc0f4fceb3a48c00f8adbfed": {
          "model_module": "@jupyter-widgets/controls",
          "model_name": "FloatProgressModel",
          "state": {
            "_view_name": "ProgressView",
            "style": "IPY_MODEL_03707f7aa4864492a462960084baf415",
            "_dom_classes": [],
            "description": "",
            "_model_name": "FloatProgressModel",
            "bar_style": "info",
            "max": 1,
            "_view_module": "@jupyter-widgets/controls",
            "_model_module_version": "1.5.0",
            "value": 1,
            "_view_count": null,
            "_view_module_version": "1.5.0",
            "orientation": "horizontal",
            "min": 0,
            "description_tooltip": null,
            "_model_module": "@jupyter-widgets/controls",
            "layout": "IPY_MODEL_89532f98cc4a4841b31d5746137e69ca"
          }
        },
        "0295ea5381ca4368b50e1dca78653c45": {
          "model_module": "@jupyter-widgets/controls",
          "model_name": "HTMLModel",
          "state": {
            "_view_name": "HTMLView",
            "style": "IPY_MODEL_cb970da60ec9471cb28b5ca17bb08c3f",
            "_dom_classes": [],
            "description": "",
            "_model_name": "HTMLModel",
            "placeholder": "​",
            "_view_module": "@jupyter-widgets/controls",
            "_model_module_version": "1.5.0",
            "value": " 64282624/? [00:15&lt;00:00, 12679303.96it/s]",
            "_view_count": null,
            "_view_module_version": "1.5.0",
            "description_tooltip": null,
            "_model_module": "@jupyter-widgets/controls",
            "layout": "IPY_MODEL_7ed2a72883b243889fe9a93d0502bbb3"
          }
        },
        "03707f7aa4864492a462960084baf415": {
          "model_module": "@jupyter-widgets/controls",
          "model_name": "ProgressStyleModel",
          "state": {
            "_view_name": "StyleView",
            "_model_name": "ProgressStyleModel",
            "description_width": "initial",
            "_view_module": "@jupyter-widgets/base",
            "_model_module_version": "1.5.0",
            "_view_count": null,
            "_view_module_version": "1.2.0",
            "bar_color": null,
            "_model_module": "@jupyter-widgets/controls"
          }
        },
        "89532f98cc4a4841b31d5746137e69ca": {
          "model_module": "@jupyter-widgets/base",
          "model_name": "LayoutModel",
          "state": {
            "_view_name": "LayoutView",
            "grid_template_rows": null,
            "right": null,
            "justify_content": null,
            "_view_module": "@jupyter-widgets/base",
            "overflow": null,
            "_model_module_version": "1.2.0",
            "_view_count": null,
            "flex_flow": null,
            "width": null,
            "min_width": null,
            "border": null,
            "align_items": null,
            "bottom": null,
            "_model_module": "@jupyter-widgets/base",
            "top": null,
            "grid_column": null,
            "overflow_y": null,
            "overflow_x": null,
            "grid_auto_flow": null,
            "grid_area": null,
            "grid_template_columns": null,
            "flex": null,
            "_model_name": "LayoutModel",
            "justify_items": null,
            "grid_row": null,
            "max_height": null,
            "align_content": null,
            "visibility": null,
            "align_self": null,
            "height": null,
            "min_height": null,
            "padding": null,
            "grid_auto_rows": null,
            "grid_gap": null,
            "max_width": null,
            "order": null,
            "_view_module_version": "1.2.0",
            "grid_template_areas": null,
            "object_position": null,
            "object_fit": null,
            "grid_auto_columns": null,
            "margin": null,
            "display": null,
            "left": null
          }
        },
        "cb970da60ec9471cb28b5ca17bb08c3f": {
          "model_module": "@jupyter-widgets/controls",
          "model_name": "DescriptionStyleModel",
          "state": {
            "_view_name": "StyleView",
            "_model_name": "DescriptionStyleModel",
            "description_width": "",
            "_view_module": "@jupyter-widgets/base",
            "_model_module_version": "1.5.0",
            "_view_count": null,
            "_view_module_version": "1.2.0",
            "_model_module": "@jupyter-widgets/controls"
          }
        },
        "7ed2a72883b243889fe9a93d0502bbb3": {
          "model_module": "@jupyter-widgets/base",
          "model_name": "LayoutModel",
          "state": {
            "_view_name": "LayoutView",
            "grid_template_rows": null,
            "right": null,
            "justify_content": null,
            "_view_module": "@jupyter-widgets/base",
            "overflow": null,
            "_model_module_version": "1.2.0",
            "_view_count": null,
            "flex_flow": null,
            "width": null,
            "min_width": null,
            "border": null,
            "align_items": null,
            "bottom": null,
            "_model_module": "@jupyter-widgets/base",
            "top": null,
            "grid_column": null,
            "overflow_y": null,
            "overflow_x": null,
            "grid_auto_flow": null,
            "grid_area": null,
            "grid_template_columns": null,
            "flex": null,
            "_model_name": "LayoutModel",
            "justify_items": null,
            "grid_row": null,
            "max_height": null,
            "align_content": null,
            "visibility": null,
            "align_self": null,
            "height": null,
            "min_height": null,
            "padding": null,
            "grid_auto_rows": null,
            "grid_gap": null,
            "max_width": null,
            "order": null,
            "_view_module_version": "1.2.0",
            "grid_template_areas": null,
            "object_position": null,
            "object_fit": null,
            "grid_auto_columns": null,
            "margin": null,
            "display": null,
            "left": null
          }
        }
      }
    }
  },
  "cells": [
    {
      "cell_type": "markdown",
      "metadata": {
        "id": "view-in-github",
        "colab_type": "text"
      },
      "source": [
        "<a href=\"https://colab.research.google.com/github/lijunwei19/EC523-homework/blob/main/HW2_v2.ipynb\" target=\"_parent\"><img src=\"https://colab.research.google.com/assets/colab-badge.svg\" alt=\"Open In Colab\"/></a>"
      ]
    },
    {
      "cell_type": "markdown",
      "metadata": {
        "id": "iHDIw_DL0SXh"
      },
      "source": [
        "# Problem Set 2 \n",
        "\n",
        "<h4>Designed by Xide Xia, with help from Ashok Cutkosky and Brian Kulis. <br> </h4>\n",
        "\n",
        "\n",
        "---\n",
        "\n",
        "This assignment will introduce you to:\n",
        "1. Understanding the power of ReLU activation.\n",
        "2. Implementing your own autograd.\n",
        "3. Implementing a simple MLP.\n",
        "4. Basic functionality in PyTorch\n",
        "\n",
        "This code has been tested on Colab. \n",
        "\n",
        "---\n",
        "\n",
        "## Preamble\n",
        "\n",
        "To run and solve this assignment, you need an interface to edit and run ipython notebooks (`.ipynb` files). The easiest way to complete this assignment is to use Google Colab. You can just copy the assignment notebook to your google drive and open it, edit it and run it on Google Colab. All libraries you need are pre-installed on Colab.\n",
        "\n",
        "---\n",
        "\n",
        "### Local installation\n",
        "The alternative is to have a local installation, although we do not recommend it. If you are working on Google Colab, feel free to skip to the next section \"More instructions\". We recommend using virtual environments for all your installations. Following is one way to set up a working environment on your local machine for this assignment, using [Anaconda](https://www.anaconda.com/distribution/): \n",
        "\n",
        "- Download and install Anaconda following the instructions [here](https://docs.anaconda.com/anaconda/install/)\n",
        "- Create a conda environment using `conda create --name dl_env python=3` (You can change the name of the environment instead of calling it `dl_env`)\n",
        "- Now activate the environment using : `conda activate dl_env`\n",
        "- Install jupyter lab, which is the [jupyter project's](https://jupyter.org/index.html) latest notebook interface : `pip install jupyterlab`. You can also use the classic jupyter notebooks and there isn't any difference except the interface.\n",
        "- Install other necessary libraries. For this assignment you need `numpy`, `scipy` , [`pytorch`](https://pytorch.org/get-started/locally/) and `matplotlib`, all of which can be installed using : `pip install <lib_name>`. Doing this in the environment, would install these libraries for `dl_env`. You can also use `conda install`.\n",
        "- Now download the assignment notebook in a local directory and launching `jupyter lab` in the same directory should open a jupyter lab session in your default browser, where you can open and edit the ipython notebook.\n",
        "- For deactivating the environment when you are done with it, use : `conda deactivate`.\n",
        "\n",
        "For users running a Jupyter server on a remote machine :\n",
        "- Launch Jupyter lab on the remote server (in the directory with the homework ipynb file) using : `jupyter lab --no-browser --ip=0.0.0.0`\n",
        "- To access the jupyter lab interface on your local browser, you need to set up ssh port forwarding. This can be done by running : `ssh -N -f -L localhost:8888:localhost:8888 <remoteuser>@<remotehost>`. You can now open `localhost:8888` on your local browser to access jupyter lab. This assumes you are running jupyter lab on its default port 8888 on the server.\n",
        "- Check \"Making life easy\" section at the end of [this post](https://ljvmiranda921.github.io/notebook/2018/01/31/running-a-jupyter-notebook/) to find how to add functions to your bash run config to do this more easily each time. The post mentions functions for jupyter notebook, but just replace those with jupyter lab if you are using that interface.\n",
        "\n",
        "The above instructions specify one way of working on the assignment. You can use other virtual environments/ipython notebook interfaces etc. (**not recommended**).\n",
        "\n",
        "---\n",
        "\n",
        "### More instructions\n",
        "\n",
        "If you are new to Python or its scientific library, Numpy, there are some nice tutorials [here](https://www.learnpython.org/) and [here](http://www.scipy-lectures.org/).\n",
        "\n",
        "In an ipython notebook, to run code in a cell or to render [Markdown](https://en.wikipedia.org/wiki/Markdown)+[LaTeX](https://en.wikipedia.org/wiki/LaTeX) press `Ctrl+Enter` or `[>|]`(like \"play\") button above. To edit any code or text cell (double) click on its content. To change cell type, choose \"Markdown\" or \"Code\" in the drop-down menu above.\n",
        "\n",
        "To enter your solutions for the written questions, put down your derivations into the corresponding cells below using LaTeX. Show all steps when proving statements. If you are not familiar with LaTeX, you should look at some tutorials and at the examples listed below between \\$..\\$. We will not accept handwritten solutions.\n",
        "\n",
        "Put your solutions into boxes marked with **`[double click here to add a solution]`** and press Ctrl+Enter to render text. (Double) click on a cell to edit or to see its source code. You can add cells via **`+`** sign at the top left corner.\n",
        "\n",
        "**Submission instructions:** please upload your completed solution file (having run all code cells and rendered all markdown/Latex) to the Google Form posted on Piazza by the due date (see Schedule for due dates and late policy).  \n",
        "\n",
        "Note: `Vector` stands for `column vector` below. "
      ]
    },
    {
      "cell_type": "markdown",
      "metadata": {
        "id": "2JkxmpsAj7VK"
      },
      "source": [
        "# Problem 1: Universal approximation power of ReLU networks (20 points)\n",
        "\n",
        "As we dicussed in class, a two layer NN with sigmoid activation function is a universal approximator, i.e: with sufficient hidden units, it can approximate any real function with desired accuracy. In this problem we want to demonstrate universal approximation power of NNs using ReLU activation units.\n",
        "\n",
        "## **Q1.1** \n",
        "Show that by composing only 2 hidden units in a ReLU network $-\\sum_{i=1}^2a_i\\ max(0,b_ix+c_i) -$ we can build an approximation to the step function $1[x>0]$\n"
      ]
    },
    {
      "cell_type": "markdown",
      "metadata": {
        "id": "R35DbojskG6p"
      },
      "source": [
        "**Solution:**\n",
        "$$$$\n",
        "$\\ \\ \\ \\ \\ \\ \\ \\ \\ \\ \\ \\ \\ set$ \n",
        "$$h(x) = step \\ \\ function - \\sum_{i=1}^{2} a_i max(0, b_ix+c_i)  $$\n",
        "\n",
        "Prove there exist $a_i, b_i, c_i $that satisfy  $\\int_{-\\infty}^{+ \\infty } |h(x)|  \\leq  \\epsilon;$ for any $\\epsilon > 0  $.\n",
        "$$$$\n",
        "Let $c_2 = c_1 -1 =0; a_1 = -a_2 >0$\n",
        "$$$$\n",
        "$$ h(x) =\n",
        "  \\begin{cases}\n",
        "    0       & \\quad (-\\infty, -\\frac{1}{b_1})\\\\ \\\\\n",
        "    b_1x+1  & \\quad  [-\\frac{1}{b_1}, 0]\\\\ \\\\\n",
        "    1     & \\quad (0, +\\infty)\n",
        "  \\end{cases}\n",
        "$$\n",
        "\n",
        "\\\\\n",
        "\n",
        "$$\n",
        "\\int_{-\\infty}^{+\\infty}|h(x)| \\leq \\epsilon \\\\\n",
        " \\int_{-\\infty}^{+\\infty}|step \\ \\ function - \\sum_{i=1}^{2} a_i max(0, b_ix+c_i)| \\leq \\epsilon \\\\ \\int_{-\\frac{1}{b_1}}^{0} b_1x+1 \\ \\ dx \\leq \\epsilon \\\\ \\frac{1}{2b_1} \\leq \\epsilon\n",
        "$$\n",
        "\n",
        "\n",
        "\n"
      ]
    },
    {
      "cell_type": "markdown",
      "metadata": {
        "id": "ysSRJ3sbkLMt"
      },
      "source": [
        "## **Q1.2** \n",
        "\n",
        "Show that by composing 4 hidden units in a ReLU network; we can build an approximation to the unit impulse function of duration $\\delta$\n",
        "\n",
        "\\begin{equation}\n",
        "u_\\delta(x) = 1[0\\leq x\\leq \\delta]\n",
        "\\end{equation}\n",
        "\n",
        "The approximator should have value $1$ between $\\frac{\\delta}{4}$ and $\\frac{3\\delta}{4}$ and should be increasing/decreasing on either side of this for a duration of $\\frac{\\delta}{2}$, i.e., it should be 0 for all values less than $\\frac{-\\delta}{4}$ and more than $\\frac{5\\delta}{4}$"
      ]
    },
    {
      "cell_type": "markdown",
      "metadata": {
        "id": "j5wGbZBjkLC1"
      },
      "source": [
        "**Solution:**\n",
        "\n",
        "In Q1.1, we have proved 2 hidden units in ReLU network can approximation step function S(x). Theterefore, this question is the same as 2 step function NN can approximation to the unit impluse of duration $\\delta$.\n",
        "$$\n",
        "S(x+\\frac{\\delta}{4}) - S(x-\\frac{3\\delta}{4})\\\\\n",
        "\\frac{1}{b_1}= \\frac{\\delta}{2}\\\\ b_1 = \\frac{2}{\\delta}\n",
        "$$"
      ]
    },
    {
      "cell_type": "markdown",
      "metadata": {
        "id": "WbyanYybkK6C"
      },
      "source": [
        "## **Q1.3** \n",
        "Using your approximator for the unit impulse function in Q1.2, complete the code given bellow to draw the approximator for different duration values $\\delta$."
      ]
    },
    {
      "cell_type": "code",
      "metadata": {
        "id": "KoCRLBNcktn8",
        "outputId": "83149f15-4e52-442f-8265-108d83a7cdeb",
        "colab": {
          "base_uri": "https://localhost:8080/",
          "height": 279
        }
      },
      "source": [
        "import numpy as np\n",
        "import matplotlib.pyplot as plt\n",
        "\n",
        "def relu(x):\n",
        "    return np.maximum(0,x)\n",
        "\n",
        "def step_fun(x, delta):\n",
        "    a_1 = 1\n",
        "    a_2 = -1\n",
        "    b_1 = 2/delta \n",
        "    b_2 = 2/delta\n",
        "    c_1 = 1\n",
        "    c_2 = 0\n",
        "    s = np.subtract(relu(b_1*x+c_1),relu(b_2*x+c_2))\n",
        "    return s\n",
        "\n",
        "def hat_u_delta(x,delta):\n",
        "    y = step_fun(x+delta/4, delta)- step_fun(x-3*delta/4, delta) \n",
        "\n",
        "    return y\n",
        "\n",
        "def draw_impulse(deltas):\n",
        "    x = np.arange(-2, 2, 0.01).reshape((-1,1))\n",
        "    for delta in deltas:\n",
        "        plt.plot(x,hat_u_delta(x,delta))\n",
        "    plt.legend(['$\\delta$ = 0.5', '$\\delta$ = 0.25', '$\\delta$ = 0.05']);\n",
        "    plt.xlabel('x')\n",
        "    plt.ylabel('y');\n",
        "\n",
        "draw_impulse([0.5, 0.25, 0.05])"
      ],
      "execution_count": null,
      "outputs": [
        {
          "output_type": "display_data",
          "data": {
            "image/png": "[encoded data removed]",
            "text/plain": [
              "<Figure size 432x288 with 1 Axes>"
            ]
          },
          "metadata": {
            "tags": [],
            "needs_background": "light"
          }
        }
      ]
    },
    {
      "cell_type": "markdown",
      "metadata": {
        "id": "82j6X2HNkKwy"
      },
      "source": [
        "## **Q1.4**\n",
        "Imagine the idea of riemann integral, where we approximate the integrand function with unit impulse functions (fig(1)). \n",
        "We will approximate the function $f(x)$ defined over $[a,b]$, using N impulse functions as follows:\n",
        "\n",
        "$$\\hat{f(x)} = \\sum_{i=0}^{N-1} f(a + i \\delta)\\, u_\\delta(x-i\\delta), $$\n",
        "where: $$\\delta = \\lfloor \\frac{b-a}{N} \\rfloor$$\n",
        "\n",
        "![riemann-gif](https://drive.google.com/uc?id=1nY1BHbbEpdm7OE3USfc0BhbbEWlTmsvv)\n",
        "\n",
        "Using your implemented approximator for unit impulse function in Q3.2; complete the code given bellow to approximate the $sin(x)$ function over $[0, 2\\pi]$. The code will plot the approximation for different number of impule functions $N$."
      ]
    },
    {
      "cell_type": "code",
      "metadata": {
        "id": "_IhOmYTMkVAt",
        "outputId": "ea62db0a-adc9-46da-9e74-9f4837fbeefd",
        "colab": {
          "base_uri": "https://localhost:8080/",
          "height": 265
        }
      },
      "source": [
        "def f(x):\n",
        "    return np.sin(x)\n",
        "\n",
        "def hat_f(x,N,a,b):\n",
        "    y = np.zeros(x.shape)\n",
        "    delta = (b-a)/N\n",
        "    for i in range(N):\n",
        "        y += f(a+i*delta)*hat_u_delta(x-i*delta,delta)  ## -- ! code required   \n",
        "    return y\n",
        "\n",
        "def draw_hat_f(N,a,b):\n",
        "    x = np.arange(a, 1.5*b, 0.01).reshape((-1,1))\n",
        "    plt.plot(x,f(x))\n",
        "    for n in N:\n",
        "        y = hat_f(x,n,a,b)\n",
        "        plt.plot(x,y);\n",
        "    plt.legend([\"f(x)\"]+[\"N = \" + str(n) for n in N],loc = 'upper right')\n",
        "\n",
        "draw_hat_f([3,10,20],0,2*3.15)"
      ],
      "execution_count": null,
      "outputs": [
        {
          "output_type": "display_data",
          "data": {
            "image/png": "[encoded data removed]",
            "text/plain": [
              "<Figure size 432x288 with 1 Axes>"
            ]
          },
          "metadata": {
            "tags": [],
            "needs_background": "light"
          }
        }
      ]
    },
    {
      "cell_type": "markdown",
      "metadata": {
        "id": "OQtPkwn1kKnf"
      },
      "source": [
        "# Problem 2: Autograd implementation. (30 points)\n",
        "\n",
        "In class, we discussed the forward and back-propagation in network layers. We pass the input through a network layer and calculate the output of the layer straightforwardly. This step is called forward-propagation. Each layer also implements a function called 'backward'. Backward is responsible for the backward pass of back-propagation. The process of back-propagation follows the schemas: Input -> Forward calls -> Loss function -> derivative -> back-propagation of errors. In neural network, any layer can forward its results to many other layers, in this case, in order to do back-propagation, we sum the deltas coming from all the target layers. \n",
        "\n",
        "In this problem, we first show the example of bias layer. And you will implement both forward and backward for the most commonly used layers including: linear, ReLU, sigmoid, softmax, and cross-entropy."
      ]
    },
    {
      "cell_type": "code",
      "metadata": {
        "id": "Ko0kWtlUjutN"
      },
      "source": [
        "'''backprop implementation with layer abstraction.\n",
        "This could be made more complicated by keeping track of an actual DAG of\n",
        "operations, but this way is not too hard to implement.\n",
        "'''\n",
        "import numpy as np\n",
        "\n",
        "\n",
        "class Layer:\n",
        "    '''A layer in a network.\n",
        "\n",
        "    A layer is simply a function from R^n to R^d for some specified n and d.\n",
        "    A neural network can usually be written as a sequence of layers:\n",
        "    if the original input x is in R^d, a 3 layer neural network might be:\n",
        "\n",
        "    L3(L2(L1(x)))\n",
        "\n",
        "    We can also view the loss function as itself a layer, so that the loss\n",
        "    of the network is:\n",
        "\n",
        "    Loss(L3(L2(L1(x))))\n",
        "\n",
        "    This class is a base class used to represent different kinds of layer\n",
        "    functions. We will eventually specify a neural network and its loss function\n",
        "    with a list:\n",
        "\n",
        "    [L1, L2, L3, Loss]\n",
        "\n",
        "    where L1, L2, L3, Loss are all Layer objects.\n",
        "\n",
        "    Each Layer object implements a function called 'forward'. forward simply\n",
        "    computes the output of a layer given its input. So instead of\n",
        "    Loss(L3(L2(L1(x))), we write\n",
        "    Loss.forward(L3.forward(L2.forward(L1.forward(x)))).\n",
        "    Doing this computation finishes the forward pass of backprop.\n",
        "\n",
        "    Each layer also implements a function called 'backward'. Backward is\n",
        "    responsible for the backward pass of backprop. After we have computed the\n",
        "    forward pass, we compute\n",
        "    L1.backward(L2.backward(L3.backward(Loss.backward(1))))\n",
        "    We give 1 as the input to Loss.backward because backward is implementing\n",
        "    the chain rule - it multiplies gradients together and so giving 1 as an\n",
        "    input makes the multiplication an identity operation.\n",
        "\n",
        "    The outputs of backward are a little subtle. Some layers may have a\n",
        "    parameter that specifies the function being computed by the layer. For\n",
        "    example, a Linear layer maintains a weight matrix, so that\n",
        "    Linear(x) = xW\n",
        "    for some matrix W.\n",
        "    The input to backward should be the gradient of the final loss with respect\n",
        "    to the output of the current layer. The output of backprop should be the\n",
        "    gradient of the final loss with respect to the input of the current layer,\n",
        "    which is just the output of the previous layer. This is why it is correct\n",
        "    to chain the outputs of backprop together. However, backward should ALSO\n",
        "    compute the gradient of the loss with respect to the current layer's\n",
        "    parameter and store this internally to be used in training.\n",
        "    '''\n",
        "    def __init__(self, parameter=None, name=None):\n",
        "        self.name = name\n",
        "        self.forward_called = False\n",
        "        self.parameter = parameter\n",
        "        self.grad = None\n",
        "\n",
        "    def zero_grad(self):\n",
        "        self.grad = None\n",
        "\n",
        "    def forward(self, input):\n",
        "        '''forward pass. Should compute layer and save relevant state\n",
        "        needed for backward pass.\n",
        "        Args:\n",
        "            input: input to this layer.\n",
        "        returns output of operation.\n",
        "        '''\n",
        "        raise NotImplementedError\n",
        "\n",
        "    def backward(self, downstream_grad):\n",
        "        '''Performs backward pass.\n",
        "\n",
        "        This function should also set self.grad to be the gradient of the final\n",
        "        output of the computation with respect to the parameter.\n",
        "\n",
        "        Args:\n",
        "            downstream_grad: gradient from downstream operation in the\n",
        "                computation graph. This package will only consider\n",
        "                computation graphs that result in scalar outputs at the final\n",
        "                node (e.g. loss function computations). As a result,\n",
        "                the dimension of downstream_grad should match the dimension of\n",
        "                the output of this layer.\n",
        "\n",
        "                Formally, if this operation computes F(x), and the final\n",
        "                computation computes a scalar, G(F(x)), then input_grad is\n",
        "                dG/dF.\n",
        "        returns:\n",
        "            gradient to pass to upstream layers. If the layer computes F(x, w),\n",
        "            where x is the input and w is the parameter of the layer, then\n",
        "            the return value should be dF(x,w)/dx * downstream_grad. Here,\n",
        "            x is in R^n, F(x, w) is in R^m, dF(x, w)/dx is a matrix in R^(n x m)\n",
        "            downstream_grad is in R^m and * indicates matrix multiplication.\n",
        "\n",
        "        We should also compute the gradient with respect to the parameter w.\n",
        "        Again by chain rule, this is dF(x, w)/dw * downstream_grad\n",
        "        '''\n",
        "        raise NotImplementedError\n",
        "\n"
      ],
      "execution_count": null,
      "outputs": []
    },
    {
      "cell_type": "markdown",
      "metadata": {
        "id": "EKZ3SP2lTpSJ"
      },
      "source": [
        "Below shows an example of the full implementation of the Bias layer, including the forward and backward function. Notice self.grad stores the gradient of the loss with respect to the current layer's parameter."
      ]
    },
    {
      "cell_type": "code",
      "metadata": {
        "id": "JF30rs0ITosh"
      },
      "source": [
        "class Bias(Layer):\n",
        "    '''adds a constant bias.\n",
        "    The bias is assumed to be a K-dimensional ndarray for arbitary K that is\n",
        "    added to the last K dimensions of a D dimensional input and broadcast\n",
        "    over the first D-K dimensions.'''\n",
        "\n",
        "    def __init__(self, bias, name=\"bias\"):\n",
        "        super(Bias, self).__init__(np.squeeze(bias), name)\n",
        "        self.weights = np.squeeze(bias)\n",
        "\n",
        "    def forward(self, input):\n",
        "        self.input = input\n",
        "        return self.parameter + self.input\n",
        "\n",
        "    def backward(self, downstream_grad):\n",
        "        self.grad = np.sum(downstream_grad, tuple(range(downstream_grad.ndim - self.parameter.ndim)))\n",
        "        return downstream_grad"
      ],
      "execution_count": null,
      "outputs": []
    },
    {
      "cell_type": "markdown",
      "metadata": {
        "id": "ntLOrh72mHOW"
      },
      "source": [
        "## **Q2.1** Multiplication layer.\n",
        "\n",
        "Let's start with the basic linear and bias layer. Show the derivatives of linear layer with respect to $X$.\n",
        "\n",
        "$Z_{linear} = XW$\n",
        "\n"
      ]
    },
    {
      "cell_type": "markdown",
      "metadata": {
        "id": "UhpqN_9O2fmz"
      },
      "source": [
        "**Solution:**\n",
        "\n",
        "$$\\frac{\\partial(XW)}{\\partial X} = W^T$$\n"
      ]
    },
    {
      "cell_type": "markdown",
      "metadata": {
        "id": "5gyrJM3O2k2U"
      },
      "source": [
        "Complete the forward and backward function of the linear layer. In backward, you should ALSO set the self.grad to be the gradient of the loss with respect to the current layer's parameter."
      ]
    },
    {
      "cell_type": "code",
      "metadata": {
        "id": "4L8Dcfq-lTRd"
      },
      "source": [
        "class Linear(Layer):\n",
        "    '''Linear layer. Parameter is NxM matrix L, input is matrix v of size B x N\n",
        "    where B is batch size, output is vL.'''\n",
        "\n",
        "    def __init__(self, weights, name=\"Linear\"):\n",
        "        super(Linear, self).__init__(weights, name)\n",
        "        self.weights = weights\n",
        "\n",
        "    def forward(self, input): \n",
        "        self.input = input\n",
        "        output = np.dot(input, self.parameter)\n",
        "        return output\n",
        "    def backward(self, downstream_grad):\n",
        "        '''downstream_grad should be BxM.'''\n",
        "        ## -- ! code required \n",
        "        \n",
        "        self.grad = np.dot(self.input.T,downstream_grad )\n",
        "      \n",
        "        upstream_grad = downstream_grad@self.parameter.T\n",
        "        return upstream_grad"
      ],
      "execution_count": null,
      "outputs": []
    },
    {
      "cell_type": "markdown",
      "metadata": {
        "id": "icklJkILnhNB"
      },
      "source": [
        "## **Q2.2** Activation layers.\n",
        "\n",
        "Now let's look at the activation layers. Show the derivatives of ReLU and sigmoid. \n",
        "<p>\n",
        "$ReLU(x) = max(0,x)$\n",
        "</p> \n",
        "<p>\n",
        "$\\sigma(x)=\\frac{1}{1+e^{-x}}$\n",
        "</p> \n",
        "\n",
        "Hint: Let's assume the gradient of ReLU is 0 when x is 0."
      ]
    },
    {
      "cell_type": "markdown",
      "metadata": {
        "id": "nq5dtn6k49SR"
      },
      "source": [
        "\n",
        "**Solution:**\n",
        "\n",
        "$$\\frac{\\partial ReLU(x)}{\\partial x} = 0 \\quad \\text{when x}\\leq 0; \\quad =1 \\text{when x} \\geq 0. $$\n",
        "\n",
        "$$ \\\\ \\\\ $$\n",
        "$$\\frac{\\partial \\sigma(x)}{\\partial x} = \\frac{0-(-e^{-x})}{(1+e^{-x})^2} = \\sigma (x)*(1-\\sigma(x))$$"
      ]
    },
    {
      "cell_type": "markdown",
      "metadata": {
        "id": "NZPP7OTt49NQ"
      },
      "source": [
        "Complete the forward and backward functions. There is no need to update self.grad since there is no parameter in activation layers. "
      ]
    },
    {
      "cell_type": "code",
      "metadata": {
        "id": "FgbalOrBlYkS"
      },
      "source": [
        "class ReLU(Layer):\n",
        "    '''ReLU layer. No parameters.'''\n",
        "\n",
        "    def __init__(self, name=\"ReLU\"):\n",
        "        super(ReLU, self).__init__(name=name)\n",
        "\n",
        "    def forward(self, input):\n",
        "        ## -- ! code required  \n",
        "        self.output = np.maximum(0,input)\n",
        "        return self.output\n",
        "\n",
        "    def backward(self, downstream_grad):\n",
        "        ## -- ! code required  \n",
        "        R = np.copy(self.output)\n",
        "        R[R<=0] =0\n",
        "        R[R>0] =1\n",
        "        return np.multiply(R, downstream_grad)\n",
        "\n",
        "\n",
        "class Sigmoid(Layer):\n",
        "    '''Sigmoid layer. No parameters.'''\n",
        "\n",
        "    def __init__(self, name=\"Sigmoid\"):\n",
        "        super(Sigmoid, self).__init__(name=name)\n",
        "\n",
        "    def forward(self, input):\n",
        "        ## -- ! code required  \n",
        "        # raise NotImplementedError\n",
        "        self.input = input\n",
        "        self.output = 1/(1+np.exp(-input))\n",
        "        return self.output\n",
        "\n",
        "    def backward(self, downstream_grad):\n",
        "        ## -- ! code required  \n",
        "        # raise NotImplementedError\n",
        "        upstream_grad = np.multiply(self.output,(1-self.output))\n",
        "        upstream_grad = np.multiply(upstream_grad,downstream_grad)\n",
        "        return upstream_grad\n"
      ],
      "execution_count": null,
      "outputs": []
    },
    {
      "cell_type": "markdown",
      "metadata": {
        "id": "zU1LRCr_oI5o"
      },
      "source": [
        "## **Q2.3**  Loss *layers*.\n",
        "\n",
        "Show the derivatives of softMax and Cross-entropy. \n",
        "\n",
        "<p>\n",
        "$\\sigma(j)=\\frac{\\exp(w_j^Tx)}{\\sum_{k}\\exp(w_k^Tx)}$. \n",
        "</p> \n",
        "\n",
        "<p>\n",
        "$L(\\hat{y},y)=-yln(\\hat{y}) - (1-y)ln(1-\\hat{y})$\n",
        "</p> \n"
      ]
    },
    {
      "cell_type": "markdown",
      "metadata": {
        "id": "VghiDCb45L4M"
      },
      "source": [
        "**Solution:** \n",
        "- **2.3.1**\n",
        "\n",
        "<p>Set $\\ \\ \\ Z_j = w_j^Tx$ </p>\n",
        "<p>$$\\sigma(j)=\\frac{\\exp(Z_j)}{\\sum_{k=1}^N\\exp(Z_k)}$$.</p>\n",
        "$\\ \\ \\ \\ \\ \\ $ when $i = j $:\n",
        "$$\\\\ \\\\ $$\n",
        "$$\\frac{\\partial\\sigma(j)}{\\partial Z_i} = \\frac{exp(Z_j)*\\sum -exp(Z_j)*exp(Z_i) }{\\sum^2} = \\sigma(j)*(1-\\sigma(i))= \\sigma(j)-\\sigma(j)*\\sigma(i)$$\n",
        "\n",
        "$\\ \\ \\ \\ \\ \\ $when $i \\neq j $:\n",
        "$$\\\\ \\\\ $$\n",
        "$$\\frac{\\partial\\sigma(j)}{\\partial Z_i} = \\frac{0 -exp(Z_j)*exp(Z_i) }{\\sum^2} = -\\sigma(j)*\\sigma(i) \\\\ $$\n",
        "$$ \\\\ $$\n",
        "$$  \\frac{\\partial\\sigma(j)}{\\partial Z_i} = \n",
        "  \\begin{cases} \\sigma(j)-\\sigma(j)*\\sigma(i) & \\quad i=j \\\\ \\\\ -\\sigma(j)*\\sigma(i) & \\quad i\\neq j \n",
        "  \\end{cases}\n",
        "$$\n",
        "$$ \\\\ \\\\ $$\n",
        "- **2.3.2**\n",
        "\n",
        "$$\\quad \\frac{\\partial L(\\hat y, y)}{\\partial \\hat y} = -\\frac{y}{\\hat y} + \\frac{1-y}{1- \\hat y}$$\n"
      ]
    },
    {
      "cell_type": "markdown",
      "metadata": {
        "id": "EyxKVXh76VIi"
      },
      "source": [
        "Complete the forward and backward functions. There is no need to update self.grad since there is no parameter in the layers. \n",
        "\n",
        "Hint: You may find [np.einsum](https://numpy.org/doc/stable/reference/generated/numpy.einsum.html) helpful when computing the gradient of SoftMax."
      ]
    },
    {
      "cell_type": "code",
      "metadata": {
        "id": "CxdqItKPlY-x"
      },
      "source": [
        "class SoftMax(Layer):\n",
        "    '''SoftMax Layer, no parameters.'''\n",
        "\n",
        "    def __init__(self, name=\"SoftMax\"):\n",
        "        super(SoftMax, self).__init__(name=\"softmax\")\n",
        "\n",
        "    def forward(self, input):\n",
        "        '''input is BxN array, B is batch dimension.'''\n",
        "        ## -- ! code required  \n",
        "        # raise NotImplementedError  \n",
        "        output = np.exp(input) / np.sum(np.exp(input),axis=1).reshape(-1,1)\n",
        "        self.output = output   \n",
        "        return output\n",
        "\n",
        "    def backward(self, downstream_grad):\n",
        "        '''downstream grad should be BxN array.'''\n",
        "        ## -- ! code required  \n",
        "        # raise NotImplementedError\n",
        "        \n",
        "        return (self.output - downstream_grad)/downstream_grad.shape[0]\n",
        "\n",
        "class CrossEntropy(Layer):\n",
        "    '''cross entropy loss.'''\n",
        "\n",
        "    def __init__(self, labels, name=\"Cross Entropy\"):\n",
        "        '''labels is BxC 1-hot vector for correct label.'''\n",
        "        super(CrossEntropy, self).__init__(name=\"Cross Entropy\")\n",
        "        self.labels = labels\n",
        "\n",
        "    def forward(self, input):\n",
        "        '''input is BxN, output is a scalar'''\n",
        "        ## -- ! code required  \n",
        "        self.input = input\n",
        "        output = -np.sum(np.multiply(np.log(input),self.labels))\n",
        "        return output/self.labels.shape[0]\n",
        "    def backward(self, downstream_grad):\n",
        "        ## -- ! code required \n",
        "        \n",
        "        return self.labels\n",
        "\n"
      ],
      "execution_count": null,
      "outputs": []
    },
    {
      "cell_type": "markdown",
      "metadata": {
        "id": "Sa8Lz_8Ro5F-"
      },
      "source": [
        "## **Q2.4** Test your implementations.\n",
        "\n",
        "Now let's build a simple model using your layers, and compare the autograd results with the numeric derivatives. If everything is implemented in the correct way, the autograd results should be very closed to numeric grad."
      ]
    },
    {
      "cell_type": "code",
      "metadata": {
        "id": "3bcJ46cGlh3c",
        "outputId": "864a012b-f931-4833-b3b6-609605933751",
        "colab": {
          "base_uri": "https://localhost:8080/",
          "height": 34
        }
      },
      "source": [
        "def numerical_derivative(layers, input):\n",
        "    base_output = forward_layers(layers, input)\n",
        "    delta = 1e-7\n",
        "    \n",
        "    for layer in layers:\n",
        "        if layer.parameter is None:\n",
        "            continue\n",
        "        size = layer.parameter.size # total number of params\n",
        "        shape = layer.parameter.shape # shape of params\n",
        "        base_param = np.copy(layer.parameter)\n",
        "        perturb = np.zeros(size)\n",
        "        grad = np.zeros(size)\n",
        "         \n",
        "        for i in range(size):\n",
        "            perturb[i] = delta # only current i-th perturb is non-zero\n",
        "            layer.parameter = base_param + np.reshape(perturb, shape) # make a small change (delta) on the i-th parameter\n",
        "            perturb_output = forward_layers(layers, input) # new output after adding a small change (delta) on the i-th parameter\n",
        "            grad[i] = (perturb_output - base_output) / delta # update the grad of i-th parameter\n",
        "            perturb[i] = 0.0 # set it back to zero\n",
        "            \n",
        "        layer.parameter = base_param\n",
        "        layer.grad = np.reshape(np.copy(grad), shape)\n",
        "\n",
        "def forward_layers(layers, input):\n",
        "    '''Forward pass on all the layers. Must be called before backwards pass.'''\n",
        "    output = input\n",
        "    for layer in layers:\n",
        "        output = layer.forward(output)\n",
        "    #assert output.size == 1, \"only supports computations that output a scalar!\"\n",
        "    return output\n",
        "\n",
        "\n",
        "def backward_layers(layers):\n",
        "    '''runs a backward pass on all the layers.\n",
        "    after this function is finished, look at layer.grad to find the\n",
        "    gradient with respect to that layer's parameter.'''\n",
        "    downstream_grad = np.matrix([[1],])\n",
        "    for layer in reversed(layers):\n",
        "        downstream_grad = layer.backward(downstream_grad)\n",
        "\n",
        "\n",
        "def zero_grad(layers):\n",
        "    for layer in layers:\n",
        "        layer.zero_grad()\n",
        "\n",
        "        \n",
        "def test_autograd():\n",
        "    h = 2\n",
        "    b = 3 \n",
        "    input = np.random.normal(np.zeros((b, h)))\n",
        "    labels = np.zeros((b, h))\n",
        "    for i in range(b):\n",
        "        labels[i, np.random.choice(range(h))] = 1.0\n",
        "\n",
        "    layers = [\n",
        "        Linear(np.random.normal(size=(h, 2 * h))),\n",
        "        Sigmoid(),\n",
        "        Bias(np.array([np.random.normal()])),\n",
        "        Linear(np.random.normal(size=(2 * h, 3 * h))),\n",
        "        ReLU(),\n",
        "        Linear(np.random.normal(size=(3 * h, h))),\n",
        "        SoftMax(),\n",
        "        CrossEntropy(labels)\n",
        "    ]\n",
        "    output = forward_layers(layers, input)\n",
        "    backward_layers(layers)\n",
        "    analytics = [np.copy(layer.grad)\n",
        "                 for layer in layers if layer.grad is not None]\n",
        "    zero_grad(layers)\n",
        "\n",
        "    numerical_derivative(layers, input)\n",
        "    numerics = [np.copy(layer.grad)\n",
        "                for layer in layers if layer.grad is not None]   \n",
        "    diff = np.sum([np.linalg.norm(analytic - numeric)/np.linalg.norm(numeric)\n",
        "                   for analytic, numeric in zip(analytics, numerics)])\n",
        "    \n",
        "    assert diff < 1e-5, \"autograd differs by {} from numeric grad!\".format(diff)\n",
        "\n",
        "\n",
        "if __name__ == \"__main__\":\n",
        "    test_autograd()\n",
        "    print(\"looking good!\")\n"
      ],
      "execution_count": null,
      "outputs": [
        {
          "output_type": "stream",
          "text": [
            "looking good!\n"
          ],
          "name": "stdout"
        }
      ]
    },
    {
      "cell_type": "markdown",
      "metadata": {
        "id": "Y613iZJ0pjO2"
      },
      "source": [
        "## Problem 3: Implementing a simple MLP. (25 points)\n",
        "\n",
        "In this problem we will develop a neural network with fully-connected layers, aka Multi-Layer Perceptron (MLP) using the layers from Problem 2. Below, we initialize toy data  that we will use to develop your implementation."
      ]
    },
    {
      "cell_type": "code",
      "metadata": {
        "id": "gD5cHE09pVAr",
        "outputId": "5384f382-a109-41f5-b0d4-6e2c222883f4",
        "colab": {
          "base_uri": "https://localhost:8080/",
          "height": 156
        }
      },
      "source": [
        "# setup\n",
        "import numpy as np\n",
        "import matplotlib.pyplot as plt\n",
        "\n",
        "%matplotlib inline\n",
        "plt.rcParams['figure.figsize'] = (10.0, 8.0) # set default size of plots\n",
        "plt.rcParams['image.interpolation'] = 'nearest'\n",
        "plt.rcParams['image.cmap'] = 'gray'\n",
        "\n",
        "\n",
        "def rel_error(x, y):\n",
        "    \"\"\" returns relative error \"\"\"\n",
        "    return np.max(np.abs(x - y) / (np.maximum(1e-8, np.abs(x) + np.abs(y))))\n",
        "\n",
        "\n",
        "# Create a small net and some toy data to check your implementations.\n",
        "# Note that we set the random seed for repeatable experiments.\n",
        "input_size = 4\n",
        "hidden_size = 10\n",
        "num_classes = 3\n",
        "num_inputs = 5\n",
        "\n",
        "def init_toy_data():\n",
        "    np.random.seed(1)\n",
        "    X = 10 * np.random.randn(num_inputs, input_size)\n",
        "    y = np.array([0, 1, 2, 2, 1])\n",
        "    return X, y\n",
        "\n",
        "X, y = init_toy_data()\n",
        "print ('X = ', X)\n",
        "print('\\n')\n",
        "print('y = ', y)\n"
      ],
      "execution_count": null,
      "outputs": [
        {
          "output_type": "stream",
          "text": [
            "X =  [[ 16.24345364  -6.11756414  -5.28171752 -10.72968622]\n",
            " [  8.65407629 -23.01538697  17.44811764  -7.61206901]\n",
            " [  3.19039096  -2.49370375  14.62107937 -20.60140709]\n",
            " [ -3.22417204  -3.84054355  11.33769442 -10.99891267]\n",
            " [ -1.72428208  -8.77858418   0.42213747   5.82815214]]\n",
            "\n",
            "\n",
            "y =  [0 1 2 2 1]\n"
          ],
          "name": "stdout"
        }
      ]
    },
    {
      "cell_type": "markdown",
      "metadata": {
        "id": "HtBLq2v7EiUK"
      },
      "source": [
        "We will use the following class `TwoLayerMLP` to implement our network. The network parameters are stored in the instance variable `self.params` where keys are string parameter names and values are numpy arrays. "
      ]
    },
    {
      "cell_type": "code",
      "metadata": {
        "id": "HM1ia9y0RlUF"
      },
      "source": [
        "class TwoLayerMLP(object):\n",
        "    def __init__(self, input_size, hidden_size, num_classes, std=1e-1, activation='sigmoid'):\n",
        "        np.random.seed(0)\n",
        "        self.input_size = input_size\n",
        "        self.num_classes = num_classes\n",
        "        \n",
        "        self.params = {}\n",
        "        self.params['W1'] = std * np.random.normal(size=(input_size, hidden_size))\n",
        "        self.params['W2'] = std * np.random.normal(size=(hidden_size, num_classes))\n",
        "        self.params['b1'] = np.zeros(hidden_size)\n",
        "        self.params['b2']  = np.zeros(num_classes)\n",
        "\n",
        "        self.activation = 'sigmoid' \n",
        "\n",
        "        self.models = [\n",
        "                  Linear(self.params['W1']),\n",
        "                  Bias(self.params['b1']),\n",
        "                  Sigmoid(),\n",
        "                  Linear(self.params['W2']),\n",
        "                  Bias(self.params['b2']),\n",
        "                  SoftMax()\n",
        "                  \n",
        "                ]    \n",
        "           \n",
        "    def loss(self, X, y=None, reg=0.0):\n",
        "        # Unpack variables from the params dictionary\n",
        "        W1, b1 = self.params['W1'], self.params['b1']\n",
        "        W2, b2 = self.params['W2'], self.params['b2']\n",
        "        _, C = W2.shape\n",
        "        N, D = X.shape\n",
        "\n",
        "        ###########################################################################\n",
        "        # TODO: Finish the forward pass, and compute the loss. This should be the \n",
        "        # data loss. Store the result in the variable loss, which should be a scalar. \n",
        "        # Use the CrossEntropy loss. So that your results match ours.\n",
        "        ###########################################################################  \n",
        "        ## -- ! code required  \n",
        "        score = X\n",
        "        for layer in self.models:\n",
        "            score = layer.forward(score)\n",
        "        if y is None:\n",
        "            return score\n",
        "        y_hat = np.zeros((len(y), np.max(y)+1))\n",
        "        for row, j in zip(y_hat, y):\n",
        "          row[j] = 1 \n",
        "        loss = CrossEntropy(y_hat).forward(score)\n",
        "              \n",
        "        ###########################################################################\n",
        "        #                            END OF YOUR CODE\n",
        "        ###########################################################################\n",
        "\n",
        "\n",
        "        grads = {}\n",
        "        ###########################################################################\n",
        "        # TODO: Compute the backward pass, computing the derivatives of the weights\n",
        "        # and biases. Store the results in the grads dictionary. For example,\n",
        "        # grads['W1'] should store the gradient on W1, and be a matrix of same size\n",
        "        ###########################################################################\n",
        "        ## -- ! code required  \n",
        "        \n",
        "        self.backward_layers(y_hat)\n",
        "\n",
        "        grads['W1'] = self.models[0].grad\n",
        "        grads['W2'] = self.models[3].grad\n",
        "        grads['b1'] = self.models[1].grad\n",
        "        grads['b2'] = self.models[4].grad\n",
        "        ###########################################################################\n",
        "        #                            END OF YOUR CODE\n",
        "        ###########################################################################\n",
        "        return loss, grads\n",
        "\n",
        "\n",
        "    def backward_layers(self, downstream_grad):\n",
        "        '''runs a backward pass on all the layers.\n",
        "        after this function is finished, look at layer.grad to find the\n",
        "        gradient with respect to that layer's parameter.'''\n",
        "        for layer in reversed(self.models):\n",
        "            downstream_grad = layer.backward(downstream_grad)\n",
        "\n",
        "    def train(self, X, y, X_val, y_val,\n",
        "            learning_rate=1e-3, learning_rate_decay=0.95,\n",
        "            reg=1e-5, num_epochs=10,\n",
        "            batch_size=200, verbose=False):\n",
        "\n",
        "        num_train = X.shape[0]\n",
        "        iterations_per_epoch = 1 #int(max(num_train / batch_size, 1))\n",
        "        epoch_num = 0\n",
        "\n",
        "        # Use SGD to optimize the parameters in self.model\n",
        "        loss_history = []\n",
        "        grad_magnitude_history = []\n",
        "        train_acc_history = []\n",
        "        val_acc_history = []\n",
        "\n",
        "        np.random.seed(1)\n",
        "        for epoch in range(num_epochs):\n",
        "            # fixed permutation (within this epoch) of training data\n",
        "            perm = np.random.permutation(num_train)\n",
        "\n",
        "            # go through minibatches\n",
        "            for it in range(iterations_per_epoch):\n",
        "                X_batch = None\n",
        "                y_batch = None\n",
        "\n",
        "                # Create a random minibatch\n",
        "                idx = perm[it*batch_size:(it+1)*batch_size]\n",
        "                X_batch = X[idx, :]\n",
        "                y_batch = y[idx]\n",
        "\n",
        "                # Compute loss and gradients using the current minibatch\n",
        "                loss, grads = self.loss(X_batch, y=y_batch, reg=reg)\n",
        "                loss_history.append(loss)\n",
        "\n",
        "                # do gradient descent\n",
        "                for param in self.params:\n",
        "                    self.params[param] -= grads[param] * learning_rate\n",
        "\n",
        "                # record gradient magnitude (Frobenius) for W1\n",
        "                grad_magnitude_history.append(np.linalg.norm(grads['W1']))\n",
        "\n",
        "            # Every epoch, check train and val accuracy and decay learning rate.\n",
        "            # Check accuracy\n",
        "            train_acc = (self.predict(X_batch) == y_batch).mean()\n",
        "            val_acc = (self.predict(X_val) == y_val).mean()\n",
        "            train_acc_history.append(train_acc)\n",
        "            val_acc_history.append(val_acc)\n",
        "            if verbose:\n",
        "                print ('Epoch %d: loss %f, train_acc %f, val_acc %f'%(\n",
        "                    epoch+1, loss, train_acc, val_acc))\n",
        "\n",
        "            # Decay learning rate\n",
        "            learning_rate *= learning_rate_decay\n",
        "\n",
        "        return {\n",
        "          'loss_history': loss_history,\n",
        "          'grad_magnitude_history': grad_magnitude_history, \n",
        "          'train_acc_history': train_acc_history,\n",
        "          'val_acc_history': val_acc_history,\n",
        "        }\n",
        "\n",
        "    def predict(self, X):        \n",
        "        ###########################################################################\n",
        "        # TODO: Implement this function; it should be VERY simple!\n",
        "        ###########################################################################\n",
        "        ## -- ! code required  \n",
        "        y_pred = np.argmax(np.exp(self.loss(X))/np.exp(np.sum(self.loss(X),axis=1)).reshape(-1,1),axis=1)\n",
        "        ###########################################################################\n",
        "        #                              END OF YOUR CODE\n",
        "        ###########################################################################\n",
        "        return y_pred"
      ],
      "execution_count": null,
      "outputs": []
    },
    {
      "cell_type": "markdown",
      "metadata": {
        "id": "HSkRivC0soqb"
      },
      "source": [
        "### Q3.1 Forward pass\n",
        "\n",
        "Our 2-layer MLP uses a softmax output layer and the multiclass cross-entropy loss to perform classification. Both are defined in Problem 2.\n",
        "\n",
        "Please take a look at method `TwoLayerMLP.loss`. This function takes in the data and weight parameters, and computes the class scores (or the logits $z_k(x,\\theta)$), the loss ($L$), and the gradients on the parameters. \n",
        "\n",
        "- Use the layers designed in **Problem 2** and implement the first part of the function to compute `scores` and `loss`. Afterwards, run the following two test cases.\n",
        "\n",
        "Note 1: It should be VERY simple to compute the forward propagation by calling the **forward_layers**().\n",
        "\n",
        "Note 2: **If you're not careful, you could run into numerical underflow/overflow problems with softmax and cross-entropy.** In particular, it involves the [log-sum-exp operation](https://en.wikipedia.org/wiki/LogSumExp) where exponentiated numbers are summed. This can result in underflow/overflow, e.g. getting \"nan\" (stands for Not A Number) for seemingly ordinary numerical operations. Read about the solution in the link.\n"
      ]
    },
    {
      "cell_type": "code",
      "metadata": {
        "id": "vGCgTsMXDuB-",
        "outputId": "d9aa8f53-82cc-4c07-e403-8037054c367c",
        "colab": {
          "base_uri": "https://localhost:8080/",
          "height": 296
        }
      },
      "source": [
        "input_size = 4\n",
        "hidden_size = 10\n",
        "num_classes = 3\n",
        "\n",
        "net = TwoLayerMLP(input_size, hidden_size, num_classes)\n",
        "scores = forward_layers(net.models, X)\n",
        "print ('(1) Your scores:\\n')\n",
        "print (scores)\n",
        "print ('\\n')\n",
        "correct_scores = np.asarray([[0.374083, 0.312271,  0.313644],\n",
        "                            [0.378308, 0.311404, 0.310286],\n",
        "                            [0.392588, 0.306650, 0.300761],\n",
        "                            [0.391516, 0.310674, 0.297809],\n",
        "                            [0.389314, 0.313829, 0.296856]])\n",
        "\n",
        "# The difference should be very small (< 1e-7)\n",
        "print ('Difference between your scores and correct scores:')\n",
        "print (np.sum(np.abs(scores - correct_scores)))\n",
        "print ('\\n')\n",
        "\n",
        "loss, _ = net.loss(X, y, reg=0.1)\n",
        "correct_loss = 1.1443\n",
        "\n",
        "# The difference should be very small (< 1e-7)\n",
        "print ('(2) Your loss: %f'%(loss))\n",
        "print ('Difference between your loss and correct loss:')\n",
        "print (np.sum(np.abs(loss - correct_loss)))"
      ],
      "execution_count": null,
      "outputs": [
        {
          "output_type": "stream",
          "text": [
            "(1) Your scores:\n",
            "\n",
            "[[0.37408336 0.3122717  0.31364494]\n",
            " [0.37830882 0.31140437 0.31028681]\n",
            " [0.39258802 0.30665057 0.30076141]\n",
            " [0.39151605 0.31067465 0.2978093 ]\n",
            " [0.3893141  0.31382926 0.29685664]]\n",
            "\n",
            "\n",
            "Difference between your scores and correct scores:\n",
            "6.999999999923734e-06\n",
            "\n",
            "\n",
            "(2) Your loss: 1.144317\n",
            "Difference between your loss and correct loss:\n",
            "1.7141182370172814e-05\n"
          ],
          "name": "stdout"
        }
      ]
    },
    {
      "cell_type": "markdown",
      "metadata": {
        "id": "n9cchDnkEX6I"
      },
      "source": [
        "## **Q3.2** Backward pass\n",
        "- Implement the second part to compute gradient of the loss with respect to the variables `W1`, `b1`, `W2`, and `b2`, stored in `grads`. \n",
        "\n",
        "Hint: you can quickly get the gradients with respect to parameters by calling **self.backward_layers**(downstream_grad).\n",
        "\n",
        "Now debug your backward pass using a numeric gradient check."
      ]
    },
    {
      "cell_type": "code",
      "metadata": {
        "id": "b4QOW0VpGohH",
        "outputId": "5232d552-72b2-4784-ee5d-7c6a7491e176",
        "colab": {
          "base_uri": "https://localhost:8080/",
          "height": 86
        }
      },
      "source": [
        "# Use numeric gradient checking to check your implementation of the backward pass.\n",
        "# If your implementation is correct, the difference between the numeric and\n",
        "# analytic gradients should be less than 1e-8 for each of W1, W2, b1, and b2.\n",
        "\n",
        "def eval_numerical_gradient(f, x, verbose=True, h=0.00001):\n",
        "  \"\"\" \n",
        "  a naive implementation of numerical gradient of f at x \n",
        "  - f should be a function that takes a single argument\n",
        "  - x is the point (numpy array) to evaluate the gradient at\n",
        "  \"\"\" \n",
        "\n",
        "  fx = f(x) # evaluate function value at original point\n",
        "  grad = np.zeros_like(x)\n",
        "  # iterate over all indexes in x\n",
        "  it = np.nditer(x, flags=['multi_index'], op_flags=['readwrite'])\n",
        "  while not it.finished:\n",
        "\n",
        "    # evaluate function at x+h\n",
        "    ix = it.multi_index\n",
        "    oldval = x[ix]\n",
        "    x[ix] = oldval + h # increment by h\n",
        "    fxph = f(x) # evalute f(x + h)\n",
        "    x[ix] = oldval - h\n",
        "    fxmh = f(x) # evaluate f(x - h)\n",
        "    x[ix] = oldval # restore\n",
        "\n",
        "    # compute the partial derivative with centered formula\n",
        "    grad[ix] = (fxph - fxmh) / (2 * h) # the slope\n",
        "    if verbose:\n",
        "      print (ix, grad[ix])\n",
        "    it.iternext() # step to next dimension\n",
        "\n",
        "  return grad\n",
        "\n",
        "loss, grads = net.loss(X, y, reg=0.1)\n",
        "\n",
        "\n",
        "# these should all be very small\n",
        "for param_name in grads:\n",
        "    f = lambda W: net.loss(X, y, reg=0.1)[0]\n",
        "    param_grad_num = eval_numerical_gradient(f, net.params[param_name], verbose=False)\n",
        "    \n",
        "    print ('%s max relative error: %e' % (param_name, rel_error(param_grad_num, grads[param_name])))"
      ],
      "execution_count": null,
      "outputs": [
        {
          "output_type": "stream",
          "text": [
            "W1 max relative error: 6.385966e-09\n",
            "W2 max relative error: 3.879585e-09\n",
            "b1 max relative error: 1.925197e-07\n",
            "b2 max relative error: 5.798988e-11\n"
          ],
          "name": "stdout"
        }
      ]
    },
    {
      "cell_type": "markdown",
      "metadata": {
        "id": "4So3UarqGLbl"
      },
      "source": [
        "## **Q3.3** Train the Sigmoid network\n",
        "To train the network we will use stochastic gradient descent (SGD), implemented in `TwoLayerNet.train`. Then we train a two-layer network on toy data.\n",
        "\n",
        "- Implement the prediction function `TwoLayerNet.predict`, which is called during training to keep track of training and validation accuracy.\n",
        "\n",
        "You should get the final training loss around 0.7, which is good, but not too great for such a toy problem. "
      ]
    },
    {
      "cell_type": "code",
      "metadata": {
        "id": "rQW7gA0q2vru",
        "outputId": "31de3db3-f19e-4832-eb81-b53e860c81bd",
        "colab": {
          "base_uri": "https://localhost:8080/",
          "height": 530
        }
      },
      "source": [
        "net = TwoLayerMLP(input_size, hidden_size, num_classes)\n",
        "scores = forward_layers(net.models, X)\n",
        "\n",
        "stats = net.train(X, y, X, y,learning_rate=0.5, reg=1e-5, num_epochs=200, verbose=False)\n",
        "print ('Final training loss: ', stats['loss_history'][-1])\n",
        "\n",
        "plt.plot(stats['loss_history'])\n",
        "plt.xlabel('epoch')\n",
        "plt.ylabel('training loss')\n",
        "plt.title('Training Loss history')\n",
        "plt.show()"
      ],
      "execution_count": null,
      "outputs": [
        {
          "output_type": "stream",
          "text": [
            "Final training loss:  0.10831043393117464\n"
          ],
          "name": "stdout"
        },
        {
          "output_type": "display_data",
          "data": {
            "image/png": "[encoded data removed]",
            "text/plain": [
              "<Figure size 720x576 with 1 Axes>"
            ]
          },
          "metadata": {
            "tags": [],
            "needs_background": "light"
          }
        }
      ]
    },
    {
      "cell_type": "markdown",
      "metadata": {
        "id": "NyQVjefVIwcQ"
      },
      "source": [
        "# Problem 4: Pytorch Intro (25 points)\n",
        "## **Q4.0**: Pytorch tutorials\n",
        "This homework will introduce you to [PyTorch](https://pytorch.org), currently the fastest growing deep learning library, and the one we will use in this course.\n",
        "\n",
        "Before starting the homework, please go over these introductory tutorials on the PyTorch webpage:\n",
        "\n",
        "*   [60-minute Blitz](https://pytorch.org/tutorials/beginner/deep_learning_60min_blitz.html)"
      ]
    },
    {
      "cell_type": "code",
      "metadata": {
        "id": "p9GI4YuDL-8D"
      },
      "source": [
        "import torch"
      ],
      "execution_count": null,
      "outputs": []
    },
    {
      "cell_type": "markdown",
      "metadata": {
        "id": "cxw9G9oyI67G"
      },
      "source": [
        "The `torch.Tensor` class is the basic building block in PyTorch and is used to hold data and parameters. The `autograd` package provides automatic differentiation for all operations on Tensors. After reading about Autograd in the tutorials above,  we will implement a few simple examples of what Autograd can do."
      ]
    },
    {
      "cell_type": "markdown",
      "metadata": {
        "id": "0OHhRhYMJeYq"
      },
      "source": [
        "## **Q4.1**. Simple function\n",
        " Use `autograd` to do backpropagation on the simple function we saw in lecture, $f=(x+y)*z$. \n",
        "\n",
        "**Q4.1.1** Create the three inputs with values $x=-2$, $y=5$ and $z=-4$ as tensors and set `requires_grad=True` to track computation on them.\n",
        "\n"
      ]
    },
    {
      "cell_type": "code",
      "metadata": {
        "id": "Z3IehHMZ1-gY"
      },
      "source": [
        "# solution here\n",
        "x = torch.tensor(-2.0, requires_grad= True)\n",
        "y = torch.tensor(5.0, requires_grad= True)\n",
        "z = torch.tensor(-4.0, requires_grad= True)"
      ],
      "execution_count": null,
      "outputs": []
    },
    {
      "cell_type": "markdown",
      "metadata": {
        "id": "4zcdXFCzJ23X"
      },
      "source": [
        "**Q4.1.2** Compute the $q=x+y$ and $f=q \\times z$ functions, creating tensors for them in the process. Print out $q,f$, then run `f.backward(retain_graph=True)`, to compute the gradients w.r.t. $x,y,z$. The `retain_graph` attribute tells autograd to keep the computation graph around after backward pass as opposed deleting it (freeing some memory). Print the gradients. Note that the gradient for $q$ will be `None` since it is an intermediate node, even though `requires_grad` for it is automatically set to `True`. To access gradients for intermediate nodes in PyTorch you can use hooks as mentioned in [this answer](https://discuss.pytorch.org/t/why-cant-i-see-grad-of-an-intermediate-variable/94/2). Compute the values by hand (or check the slides) to verify your solution."
      ]
    },
    {
      "cell_type": "code",
      "metadata": {
        "id": "HFGohjfLJxFV",
        "outputId": "2025dabe-eee5-427c-9212-7ce4a482ec94",
        "colab": {
          "base_uri": "https://localhost:8080/",
          "height": 104
        }
      },
      "source": [
        "# solution here\n",
        "q = x+y\n",
        "f = q*z\n",
        "q.register_hook(print)\n",
        "print(q, f)\n",
        "f.backward(retain_graph= True)\n",
        "print(x.grad)\n",
        "print(y.grad)\n",
        "print(z.grad)"
      ],
      "execution_count": null,
      "outputs": [
        {
          "output_type": "stream",
          "text": [
            "tensor(3., grad_fn=<AddBackward0>) tensor(-12., grad_fn=<MulBackward0>)\n",
            "tensor(-4.)\n",
            "tensor(-4.)\n",
            "tensor(-4.)\n",
            "tensor(3.)\n"
          ],
          "name": "stdout"
        }
      ]
    },
    {
      "cell_type": "markdown",
      "metadata": {
        "id": "7Cx02VhLJ9E6"
      },
      "source": [
        "**Q4.1.3** If we now run `backward()` again, it will add the gradients to their previous values. Try it by running the above cell multiple times. This is useful in some cases, but if we just wanted to re-compute the gradients again, we need to zero them first, then run `backward()`. Add this step, then try running the  backward function multiple times to make sure the answer is the same each time!"
      ]
    },
    {
      "cell_type": "code",
      "metadata": {
        "id": "_gqSSmRNJxQ3",
        "outputId": "2c046f37-76a6-4249-b015-4fe38856c1fa",
        "colab": {
          "base_uri": "https://localhost:8080/",
          "height": 86
        }
      },
      "source": [
        "# solution here\n",
        "x.grad.data.zero_()\n",
        "y.grad.data.zero_()\n",
        "z.grad.data.zero_()\n",
        "f.backward(retain_graph= True)\n",
        "print(x.grad)\n",
        "print(y.grad)\n",
        "print(z.grad)"
      ],
      "execution_count": null,
      "outputs": [
        {
          "output_type": "stream",
          "text": [
            "tensor(-4.)\n",
            "tensor(-4.)\n",
            "tensor(-4.)\n",
            "tensor(3.)\n"
          ],
          "name": "stdout"
        }
      ]
    },
    {
      "cell_type": "markdown",
      "metadata": {
        "id": "iZtPvY8IKGkO"
      },
      "source": [
        "## **Q4.2** Neuron\n",
        " Implement the function corresponding to one neuron (logistic regression unit) that we saw in the lecture and compute the gradient w.r.t. $x$ and $w$. The function is $f=\\sigma(w^Tx)$ where $\\sigma()$ is the sigmoid function. Initialize $x=[-1, -2, 1]$ and the weights to $w=[2, -3, -3]$ where $w_3$ is the bias. Print out the gradients and double check their values by hand."
      ]
    },
    {
      "cell_type": "code",
      "metadata": {
        "id": "Ssa0Mqt7JxpQ",
        "outputId": "09918bec-1466-4cc7-9b3d-a9467c5365a1",
        "colab": {
          "base_uri": "https://localhost:8080/",
          "height": 52
        }
      },
      "source": [
        "# solution here\n",
        "\n",
        "def sigmoid(x):\n",
        "  return 1/(1+torch.exp(-x))\n",
        "x = torch.tensor([[-1.,-2.,1.]], requires_grad= True)\n",
        "w = torch.tensor([[2.,-3.,-3.]], requires_grad=True)\n",
        "f = sigmoid(w@x.T)\n",
        "f.backward()\n",
        "print(x.grad)\n",
        "print(w.grad)"
      ],
      "execution_count": null,
      "outputs": [
        {
          "output_type": "stream",
          "text": [
            "tensor([[ 0.3932, -0.5898, -0.5898]])\n",
            "tensor([[-0.1966, -0.3932,  0.1966]])\n"
          ],
          "name": "stdout"
        }
      ]
    },
    {
      "cell_type": "markdown",
      "metadata": {
        "id": "QzykKC_TKPZr"
      },
      "source": [
        "## **Q4.3**. torch.nn\n",
        " We will now implement the same neuron function $f$ with the same variable values as in Q4.2, but using the `Linear` class from `torch.nn`, followed by the [Sigmoid](https://pytorch.org/docs/stable/nn.html#torch.nn.Sigmoid) class. In general, many useful functions are already implemented for us in this package. Compute the gradients $\\partial f/\\partial w$ by running `backward()` and print them out (they will be stored in the Linear variable, e.g. in `.weight.grad`.) "
      ]
    },
    {
      "cell_type": "code",
      "metadata": {
        "id": "c7ppyJIGJxl-",
        "outputId": "bce385d1-15d3-4c77-f9f4-ab5ee5f8c3b4",
        "colab": {
          "base_uri": "https://localhost:8080/",
          "height": 34
        }
      },
      "source": [
        "# solution here\n",
        "x = torch.tensor([[-1.,-2.,1.]], requires_grad= True)\n",
        "w = torch.tensor([[2.,-3.,-3.]], requires_grad=True)\n",
        "\n",
        "L = torch.nn.Linear(3,1)\n",
        "L.weight.data.copy_(w)\n",
        "\n",
        "s = torch.nn.Sigmoid()\n",
        "\n",
        "g = L(x)\n",
        "f = s(g)\n",
        "f.backward()\n",
        "print(L.weight.grad)"
      ],
      "execution_count": null,
      "outputs": [
        {
          "output_type": "stream",
          "text": [
            "tensor([[-0.2203, -0.4406,  0.2203]])\n"
          ],
          "name": "stdout"
        }
      ]
    },
    {
      "cell_type": "markdown",
      "metadata": {
        "id": "xocHX3eHKUid"
      },
      "source": [
        "## **Q4.4** Module\n",
        " Now lets put these two functions (Linear and Sigmoid) together into a \"module\". Read the [Neural Networks tutorial](https://pytorch.org/tutorials/beginner/blitz/neural_networks_tutorial.html) if you have not already.\n",
        "\n",
        "**Q4.4.1** Make a subclass of the `Module` class, called `Neuron`. Set variables to the same values as above. You will need to define the `__init__` and `forward`\n",
        "\n"
      ]
    },
    {
      "cell_type": "code",
      "metadata": {
        "id": "XAEdoDGUJxiw",
        "outputId": "4db7c15c-aa61-489f-c2d8-ddf6e0ff9c3f",
        "colab": {
          "base_uri": "https://localhost:8080/",
          "height": 34
        }
      },
      "source": [
        "# solution here\n",
        "class Neuron(torch.nn.Module):\n",
        "  def __init__(self):\n",
        "    super().__init__()\n",
        "    self.Linear = torch.nn.Linear(3,1)\n",
        "    self.Sigmoid = torch.nn.Sigmoid()\n",
        "  def forward(self, x):\n",
        "    x = self.Linear(x)\n",
        "    x = self.Sigmoid(x)\n",
        "    return x\n",
        "\n",
        "x = torch.tensor([[-1.,-2.,1.]], requires_grad= True)\n",
        "net = Neuron()\n",
        "print(net.forward(x))"
      ],
      "execution_count": null,
      "outputs": [
        {
          "output_type": "stream",
          "text": [
            "tensor([[0.1674]], grad_fn=<SigmoidBackward>)\n"
          ],
          "name": "stdout"
        }
      ]
    },
    {
      "cell_type": "markdown",
      "metadata": {
        "id": "erHyJz6GKYi3"
      },
      "source": [
        "**Q4.4.2** Now create a  variable of your `Neuron` class called `my_neuron` and run backpropagation on it. Print out the gradients again. Make sure you zero out the gradients first, by calling `.zero_grad()` function of the parent class. Even if you will not re-compute the backprop, it is good practice to do this every time to avoid accumulating gradient!"
      ]
    },
    {
      "cell_type": "code",
      "metadata": {
        "id": "PnVGQjtbJxbA",
        "outputId": "2d253f11-d837-403d-a77c-ae3673e8a509",
        "colab": {
          "base_uri": "https://localhost:8080/",
          "height": 174
        }
      },
      "source": [
        "# solution here\n",
        "my_neuron = Neuron()\n",
        "my_neuron.zero_grad()\n",
        "f = my_neuron.forward(x)\n",
        "f.backward()\n",
        "\n",
        "print(my_neuron)\n",
        "print(my_neuron.parameters)\n",
        "\n",
        "print(my_neuron.Linear.weight.grad)"
      ],
      "execution_count": null,
      "outputs": [
        {
          "output_type": "stream",
          "text": [
            "Neuron(\n",
            "  (Linear): Linear(in_features=3, out_features=1, bias=True)\n",
            "  (Sigmoid): Sigmoid()\n",
            ")\n",
            "<bound method Module.parameters of Neuron(\n",
            "  (Linear): Linear(in_features=3, out_features=1, bias=True)\n",
            "  (Sigmoid): Sigmoid()\n",
            ")>\n",
            "tensor([[-0.1758, -0.3517,  0.1758]])\n"
          ],
          "name": "stdout"
        }
      ]
    },
    {
      "cell_type": "markdown",
      "metadata": {
        "id": "But_2wecKkJL"
      },
      "source": [
        "## **Q4.5**. Loss and SGD\n",
        " Now, lets train our neuron on some data. The code below creates a toy dataset containing a few inputs $x$ and outputs $y$ (a binary 0/1 label), as well as a function that plots the data and current solution."
      ]
    },
    {
      "cell_type": "code",
      "metadata": {
        "id": "JwRpJrqEKdrR",
        "outputId": "8d475481-04d7-4373-d227-c755c62948ed",
        "colab": {
          "base_uri": "https://localhost:8080/",
          "height": 286
        }
      },
      "source": [
        "import matplotlib.pyplot as plt\n",
        "\n",
        "# create some toy 2-D datapoints with binary (0/1) labels\n",
        "x = torch.tensor([[1.2, 1], [0.2, 1.4], [0.5, 0.5], \n",
        "                  [-1.5, -1.3], [0.2, -1.4], [-0.7, -0.5]])\n",
        "y = torch.tensor([0, 0, 0, 1, 1, 1 ])\n",
        "\n",
        "def plot_soln(x, y, params):\n",
        "  plt.plot(x[y==1,0], x[y==1,1], 'r+')\n",
        "  plt.plot(x[y==0,0], x[y==0,1], 'b.')\n",
        "  plt.grid(True)\n",
        "  plt.axis([-2, 2, -2, 2])\n",
        "  \n",
        "  # NOTE : This may depend on how you implement Neuron.\n",
        "  #   Change accordingly\n",
        "  w0 = params[0][0][0].item()\n",
        "  w1 = params[0][0][1].item()\n",
        "  bias = params[1][0].item()\n",
        "  \n",
        "  print(\"w0 =\", w0, \"w1 =\", w1, \"bias =\", bias)\n",
        "  dbx = torch.tensor([-2, 2])\n",
        "  dby = -(1/w1)*(w0*dbx + bias)  # plot the line corresponding to the weights and bias\n",
        "  plt.plot(dbx, dby)\n",
        "\n",
        "params = list(my_neuron.parameters())\n",
        "plot_soln(x, y, params)"
      ],
      "execution_count": null,
      "outputs": [
        {
          "output_type": "stream",
          "text": [
            "w0 = 0.17473028600215912 w1 = -0.5557648539543152 bias = 0.06823863834142685\n"
          ],
          "name": "stdout"
        },
        {
          "output_type": "display_data",
          "data": {
            "image/png": "[encoded data removed]",
            "text/plain": [
              "<Figure size 432x288 with 1 Axes>"
            ]
          },
          "metadata": {
            "tags": [],
            "needs_background": "light"
          }
        }
      ]
    },
    {
      "cell_type": "markdown",
      "metadata": {
        "id": "fAbcItAKKvTi"
      },
      "source": [
        "**Q4.5.1** Declare an object `criterion` of type `nn.CrossEntropyLoss`. Note that this can be called as a function on two tensors, one representing the network outputs and the other, the targets that the network is being trained to predict, to return the loss. Print the value of the loss on the dataset using the initial weights and bias defined above in Q4.2."
      ]
    },
    {
      "cell_type": "code",
      "metadata": {
        "id": "DVUAaX_9Kd3O",
        "outputId": "f860a63b-ff4a-4ac8-8457-e243681727ca",
        "colab": {
          "base_uri": "https://localhost:8080/",
          "height": 34
        }
      },
      "source": [
        "# solution here\n",
        "criterion = torch.nn.CrossEntropyLoss()\n",
        "w = torch.tensor([[2.,-3.,-3.]], requires_grad=True)\n",
        "def init_weight(layer):\n",
        "  if type(layer) == torch.nn.Linear:\n",
        "    layer.weight.data.copy_(w)\n",
        "my_neuron.apply(init_weight)\n",
        "ones = torch.ones(6,1)\n",
        "# create some toy 2-D datapoints with binary (0/1) labels\n",
        "x = torch.tensor([[1.2, 1, 1.], [0.2, 1.4, 1.], [0.5, 0.5, 1.], \n",
        "                  [-1.5, -1.3, 1.], [0.2, -1.4, 1.], [-0.7, -0.5, 1.]])\n",
        "y = torch.tensor([0, 0, 0, 1, 1, 1 ])\n",
        "\n",
        "output = my_neuron.forward(x)\n",
        "tmp = torch.tensor([[1-output[i][0].item()] for i in range(len(y))])\n",
        "loss_in = torch.cat((tmp,output),1)\n",
        "loss = criterion(loss_in, y)\n",
        "print(loss)\n",
        "loss.backward()\n"
      ],
      "execution_count": null,
      "outputs": [
        {
          "output_type": "stream",
          "text": [
            "tensor(0.6274, grad_fn=<NllLossBackward>)\n"
          ],
          "name": "stdout"
        }
      ]
    },
    {
      "cell_type": "markdown",
      "metadata": {
        "id": "6BD6wtblKwef"
      },
      "source": [
        "**Q4.5.2** Print out the chain of `grad_fn` functions backwards starting from `loss.grad_fn`  to demonstrate what backpropagation will be run on."
      ]
    },
    {
      "cell_type": "code",
      "metadata": {
        "id": "J35nnDwSKeEw",
        "outputId": "3b776779-0671-4a8e-ef6d-a6ad945d35de",
        "colab": {
          "base_uri": "https://localhost:8080/",
          "height": 86
        }
      },
      "source": [
        "# solution here\n",
        "function = loss.grad_fn\n",
        "print(function)\n",
        "while function :\n",
        "  print(function.next_functions[0][0])\n",
        "  function = function.next_functions[0][0]"
      ],
      "execution_count": null,
      "outputs": [
        {
          "output_type": "stream",
          "text": [
            "<NllLossBackward object at 0x7f4e35216be0>\n",
            "<LogSoftmaxBackward object at 0x7f4dcd072a58>\n",
            "<CatBackward object at 0x7f4e35216be0>\n",
            "None\n"
          ],
          "name": "stdout"
        }
      ]
    },
    {
      "cell_type": "markdown",
      "metadata": {
        "id": "u6Yd5zbIKxMp"
      },
      "source": [
        "**Q4.5.3** Run the Stochastic Gradient Descent (SGD) optimizer from the `torch.optim` package to train your classifier on the toy dataset. Use the entire dataset in each batch. Use a learning rate of $0.01$ (no other hyperparameters). You will need to write a training loop that uses the `.step()` function of the optimizer. Plot the solution and print the loss after 10000 iterations."
      ]
    },
    {
      "cell_type": "code",
      "metadata": {
        "id": "ijxmOyUUKvrU",
        "outputId": "ab019a88-8b39-4fba-d0e1-f703d8958312",
        "colab": {
          "base_uri": "https://localhost:8080/",
          "height": 295
        }
      },
      "source": [
        "# solution here\n",
        "input = x  #(6,2)\n",
        "lablels = y  #(6,1)\n",
        "my_2_neuron = Neuron()\n",
        "my_2_neuron.Linear = torch.nn.Linear(2,2)\n",
        "my_2_neuron.zero_grad()\n",
        "x = torch.tensor([[1.2, 1.], [0.2, 1.4], [0.5, 0.5], \n",
        "                  [-1.5, -1.3], [0.2, -1.4], [-0.7, -0.5]])\n",
        "y = torch.tensor([0, 0, 0, 1, 1, 1 ])\n",
        "optimizer = torch.optim.SGD(my_2_neuron.parameters(), lr=0.01, momentum=0.9)\n",
        "loss_function = torch.nn.CrossEntropyLoss()\n",
        "\n",
        "plot_loss=[]\n",
        "for i in range(10000):\n",
        "  optimizer.zero_grad()\n",
        "  output = my_2_neuron(input)\n",
        "  loss = loss_function(output, lablels)\n",
        "  plot_loss.append(loss)\n",
        "  loss.backward()\n",
        "  optimizer.step()\n",
        "\n",
        "plt.plot(plot_loss)\n",
        "plt.xlabel('epoch')\n",
        "plt.ylabel('training loss')\n",
        "plt.title('Training Loss history')\n",
        "plt.show()"
      ],
      "execution_count": null,
      "outputs": [
        {
          "output_type": "display_data",
          "data": {
            "image/png": "[encoded data removed]",
            "text/plain": [
              "<Figure size 432x288 with 1 Axes>"
            ]
          },
          "metadata": {
            "tags": [],
            "needs_background": "light"
          }
        }
      ]
    },
    {
      "cell_type": "markdown",
      "metadata": {
        "id": "ed2aFhiYK-vb"
      },
      "source": [
        "**Q4.5.4** How many thousands of iterations does it take (approximately) until the neuron learns to classify the data correctly?"
      ]
    },
    {
      "cell_type": "markdown",
      "metadata": {
        "id": "0tuMoY6JLG_C"
      },
      "source": [
        "***Solution***\n",
        "\n",
        "after 3000 iterations "
      ]
    },
    {
      "cell_type": "markdown",
      "metadata": {
        "id": "7MdGRt1jOmBX"
      },
      "source": [
        "## **Q4.6**. Hidden space ablation\n",
        "\n",
        "Now let's look at the size of network's hidden space. We will create and train a **2-layer MLP** network on the [SVHN Dataset](http://ufldl.stanford.edu/housenumbers/).\n",
        "\n",
        "The SVHN dataset consists of photos of house numbers, collected automatically using Google's Street View. Recognizing multi-digit numbers in photographs captured at street level is an important component of modern-day map making. Google’s Street View imagery contains hundreds of millions of geo-located 360 degree panoramic images. The ability to automatically transcribe an address number from a geo-located patch of pixels and associate the transcribed number with a known street address helps pinpoint, with a high degree of accuracy, the location of the building it represents. Below are example images from the dataset. Note that for this dataset, each image (32x32 pixels) has been cropped around a single number in its center, which is the number we want to classify.\n",
        "\n",
        "![SVHN images](http://ufldl.stanford.edu/housenumbers/32x32eg.png)\n",
        "\n",
        "In this problem, we turn the input images into grayscale and then flat them into 1-D vector. First, download the SVHN dataset using `torchvision` and display the images in the first batch. Take a look at the [Training a Classifier](https://pytorch.org/tutorials/beginner/blitz/cifar10_tutorial.html#sphx-glr-beginner-blitz-cifar10-tutorial-py) tutorial for an example. Follow the settings used there, such as the normalization, batch size of 4 for the `torch.utils.data.DataLoader`, etc.\n"
      ]
    },
    {
      "cell_type": "code",
      "metadata": {
        "id": "dtdl8h1eY2dZ",
        "outputId": "48eb50e5-2a1e-4b66-86f6-ca0bd04332be",
        "colab": {
          "base_uri": "https://localhost:8080/",
          "height": 114,
          "referenced_widgets": [
            "dd400367f4144f2a85c47fefa4b10272",
            "eb82991faba44967834f09c237dae1c4",
            "26360dd4d5274e60bce51dd0d5e69345",
            "7ebfffd53f714d6997d3760ed2b31224",
            "6bae8ec2e7224a09b6449157dcf53a6c",
            "d3c31ce292e84a4a8fa61b5990766c14",
            "2634addfcf3043e7912f2b10b8ff8382",
            "5a72d8852e384002b120a2b5881451a8",
            "79698e6b5ce34b189512433f1a04e829",
            "85f5515bd71f45eba4e13d7fb4973c66",
            "1a2b8309bc0f4fceb3a48c00f8adbfed",
            "0295ea5381ca4368b50e1dca78653c45",
            "03707f7aa4864492a462960084baf415",
            "89532f98cc4a4841b31d5746137e69ca",
            "cb970da60ec9471cb28b5ca17bb08c3f",
            "7ed2a72883b243889fe9a93d0502bbb3"
          ]
        }
      },
      "source": [
        "# solution here\n",
        "import torch\n",
        "import torchvision\n",
        "import torchvision.transforms as transforms\n",
        "\n",
        "\n",
        "transform = transforms.Compose(\n",
        "    [transforms.Grayscale(num_output_channels=1),\n",
        "     transforms.ToTensor(),\n",
        "     transforms.Normalize(mean=(0.5), std=(0.5))])\n",
        "\n",
        "trainset = torchvision.datasets.SVHN(root='svhn', split = 'train', download=True, transform=transform)\n",
        "trainloader = torch.utils.data.DataLoader(trainset, batch_size=4,shuffle=True, num_workers=0)\n",
        "\n",
        "testset = torchvision.datasets.SVHN(root='svhn', split = 'test',download=True, transform=transform)\n",
        "testloader = torch.utils.data.DataLoader(testset, batch_size=4,shuffle=False, num_workers=0)"
      ],
      "execution_count": null,
      "outputs": [
        {
          "output_type": "stream",
          "text": [
            "Downloading http://ufldl.stanford.edu/housenumbers/train_32x32.mat to svhn/train_32x32.mat\n"
          ],
          "name": "stdout"
        },
        {
          "output_type": "display_data",
          "data": {
            "application/vnd.jupyter.widget-view+json": {
              "model_id": "dd400367f4144f2a85c47fefa4b10272",
              "version_minor": 0,
              "version_major": 2
            },
            "text/plain": [
              "HBox(children=(FloatProgress(value=1.0, bar_style='info', max=1.0), HTML(value='')))"
            ]
          },
          "metadata": {
            "tags": []
          }
        },
        {
          "output_type": "stream",
          "text": [
            "Downloading http://ufldl.stanford.edu/housenumbers/test_32x32.mat to svhn/test_32x32.mat\n"
          ],
          "name": "stdout"
        },
        {
          "output_type": "display_data",
          "data": {
            "application/vnd.jupyter.widget-view+json": {
              "model_id": "79698e6b5ce34b189512433f1a04e829",
              "version_minor": 0,
              "version_major": 2
            },
            "text/plain": [
              "HBox(children=(FloatProgress(value=1.0, bar_style='info', max=1.0), HTML(value='')))"
            ]
          },
          "metadata": {
            "tags": []
          }
        }
      ]
    },
    {
      "cell_type": "code",
      "metadata": {
        "id": "veWKbhLR1Ufm",
        "outputId": "acc4bc5b-9366-470e-cc3e-97c1773941f2",
        "colab": {
          "base_uri": "https://localhost:8080/",
          "height": 189
        }
      },
      "source": [
        "import matplotlib.pyplot as plt\n",
        "import numpy as np\n",
        "def imshow(img):\n",
        "    img = img / 2 + 0.5     # unnormalize\n",
        "    npimg = img.numpy()\n",
        "    plt.imshow(np.transpose(npimg, (1, 2, 0)))\n",
        "    plt.show()\n",
        "\n",
        "\n",
        "# get some random training images\n",
        "dataiter = iter(trainloader)\n",
        "images, labels = dataiter.next()\n",
        "print(images.shape)\n",
        "# show images\n",
        "\n",
        "imshow(torchvision.utils.make_grid(images))\n",
        "# print labels\n",
        "print(' '.join('%5s' % labels[j] for j in range(4)))\n",
        "images = images.view(images.shape[0], -1)\n",
        "print(images.shape)"
      ],
      "execution_count": null,
      "outputs": [
        {
          "output_type": "stream",
          "text": [
            "torch.Size([4, 1, 32, 32])\n"
          ],
          "name": "stdout"
        },
        {
          "output_type": "display_data",
          "data": {
            "image/png": "[encoded data removed]",
            "text/plain": [
              "<Figure size 432x288 with 1 Axes>"
            ]
          },
          "metadata": {
            "tags": [],
            "needs_background": "light"
          }
        },
        {
          "output_type": "stream",
          "text": [
            "tensor(2) tensor(8) tensor(1) tensor(4)\n",
            "torch.Size([4, 1024])\n"
          ],
          "name": "stdout"
        }
      ]
    },
    {
      "cell_type": "markdown",
      "metadata": {
        "id": "PBDzvc_nLfGJ"
      },
      "source": [
        "### Q4.6.1 2-layer MLP \n",
        "\n",
        "Next, we will train a 2-layer MLP on the data. We have defined a simple 2-layer MLP for you with two fc layers and ReLU activation.\n",
        "\n"
      ]
    },
    {
      "cell_type": "code",
      "metadata": {
        "id": "dWu68j0AaYD1"
      },
      "source": [
        "import torch.nn as nn\n",
        "import torch.nn.functional as F\n",
        "\n",
        "class Neuron(nn.Module):\n",
        "    def __init__(self, hidden_size):\n",
        "        super(Neuron, self).__init__()\n",
        "        self.l1 = nn.Linear(1024, hidden_size)\n",
        "        self.l2 = nn.Linear(hidden_size, 10)\n",
        "\n",
        "    def forward(self, x):\n",
        "        x = x.view(-1, 1024)\n",
        "        x = F.relu(self.l1(x))\n",
        "        x = self.l2(x)\n",
        "        return x"
      ],
      "execution_count": null,
      "outputs": []
    },
    {
      "cell_type": "markdown",
      "metadata": {
        "id": "n7OMjOH0MXpR"
      },
      "source": [
        "You can check the number of parameters in the model by printing out the model summary."
      ]
    },
    {
      "cell_type": "code",
      "metadata": {
        "id": "tyODwJ0rJYq1",
        "outputId": "3e389224-5572-4ee8-f2c0-546066609643",
        "colab": {
          "base_uri": "https://localhost:8080/",
          "height": 202
        }
      },
      "source": [
        "def model_summary(model):\n",
        "  print(\"model_summary\")\n",
        "  print()\n",
        "  print(\"Layer_name\"+\"\\t\"*7+\"Number of Parameters\")\n",
        "  print(\"=\"*100)\n",
        "  model_parameters = [layer for layer in model.parameters() if layer.requires_grad]\n",
        "  layer_name = [child for child in model.children()]\n",
        "  j = 0\n",
        "  total_params = 0\n",
        "  print(\"\\t\"*10)\n",
        "  for i in layer_name:\n",
        "    print()\n",
        "    param = 0\n",
        "    try:\n",
        "      bias = (i.bias is not None)\n",
        "    except:\n",
        "      bias = False  \n",
        "    if not bias:\n",
        "      param =model_parameters[j].numel()+model_parameters[j+1].numel()\n",
        "      j = j+2\n",
        "    else:\n",
        "      param =model_parameters[j].numel()\n",
        "      j = j+1\n",
        "    print(str(i)+\"\\t\"*3+str(param))\n",
        "    total_params+=param\n",
        "  print(\"=\"*100)\n",
        "  print(f\"Total Params:{total_params}\")       \n",
        "\n",
        "my_neuron = Neuron(10)\n",
        "model_summary(my_neuron)"
      ],
      "execution_count": null,
      "outputs": [
        {
          "output_type": "stream",
          "text": [
            "model_summary\n",
            "\n",
            "Layer_name\t\t\t\t\t\t\tNumber of Parameters\n",
            "====================================================================================================\n",
            "\t\t\t\t\t\t\t\t\t\t\n",
            "\n",
            "Linear(in_features=1024, out_features=10, bias=True)\t\t\t10240\n",
            "\n",
            "Linear(in_features=10, out_features=10, bias=True)\t\t\t10\n",
            "====================================================================================================\n",
            "Total Params:10250\n"
          ],
          "name": "stdout"
        }
      ]
    },
    {
      "cell_type": "markdown",
      "metadata": {
        "id": "LOqfDwW7MmCM"
      },
      "source": [
        "Instantiate the cross-entropy loss `criterion`, and an SGD optimizer from the `torch.optim` package with learning rate $.001$ and momentum $.9$. You may also want to enable GPU training using `torch.device()`."
      ]
    },
    {
      "cell_type": "code",
      "metadata": {
        "id": "QSGrluSuM0Th"
      },
      "source": [
        "criterion = nn.CrossEntropyLoss()\n",
        "optimizer = torch.optim.SGD(my_neuron.parameters(), lr = 0.001, momentum=0.9)\n",
        "if torch.cuda.is_available():\n",
        "  dev = 'cuda:0'\n",
        "else:\n",
        "  dev ='cpu'\n",
        "device = torch.device(dev)"
      ],
      "execution_count": null,
      "outputs": []
    },
    {
      "cell_type": "markdown",
      "metadata": {
        "id": "rnYmjlVnM-a0"
      },
      "source": [
        "### Q4.6.2 Training\n",
        "Complete the training loop that makes five full passes through the dataset (five epochs) using SGD. Your batch size should be 4 and hidden size is 10. \n",
        "*italicized text*"
      ]
    },
    {
      "cell_type": "code",
      "metadata": {
        "id": "5JcsoLpkcA0N",
        "outputId": "fd345028-d8c3-4531-f1a9-a4b03ef1e1c5",
        "colab": {
          "base_uri": "https://localhost:8080/",
          "height": 1000
        }
      },
      "source": [
        "my_neuron = Neuron(10)\n",
        "\n",
        "# create your optimizer\n",
        "criterion = nn.CrossEntropyLoss()\n",
        "optimizer = torch.optim.SGD(my_neuron.parameters(), lr = 0.001, momentum=0.9)\n",
        "\n",
        "device = torch.device(\"cuda:0\" if torch.cuda.is_available() else \"cpu\")\n",
        "\n",
        "# num of epoch\n",
        "stats = []\n",
        "for epoch in range(5):\n",
        "  running_loss = 0.0\n",
        "  for i, data in enumerate(trainloader, 0):\n",
        "    inputs, labels = data\n",
        "    inputs, labels = inputs.to(device), labels.to(device)\n",
        "\n",
        "    ## -- ! code required  \n",
        "    output = my_neuron(inputs)\n",
        "    loss = criterion(output, labels)\n",
        "\n",
        "    optimizer.zero_grad()\n",
        "    loss.backward()\n",
        "    optimizer.step()\n",
        "\n",
        "    # print statistics\n",
        "    running_loss += loss.item()\n",
        "    if i % 2000 == 1999:    # print every 2000 mini-batches\n",
        "        print('[%d, %5d] loss: %.3f' %\n",
        "              (epoch + 1, i + 1, running_loss / 2000))\n",
        "        stats.append(running_loss / 2000)\n",
        "        running_loss = 0.0\n",
        "plt.plot(stats)\n",
        "plt.xlabel('iteration')\n",
        "plt.ylabel('training loss')\n",
        "plt.title('Training Loss history')\n",
        "plt.show()"
      ],
      "execution_count": null,
      "outputs": [
        {
          "output_type": "stream",
          "text": [
            "[1,  2000] loss: 2.195\n",
            "[1,  4000] loss: 1.892\n",
            "[1,  6000] loss: 1.660\n",
            "[1,  8000] loss: 1.503\n",
            "[1, 10000] loss: 1.440\n",
            "[1, 12000] loss: 1.362\n",
            "[1, 14000] loss: 1.351\n",
            "[1, 16000] loss: 1.333\n",
            "[1, 18000] loss: 1.328\n",
            "[2,  2000] loss: 1.297\n",
            "[2,  4000] loss: 1.305\n",
            "[2,  6000] loss: 1.270\n",
            "[2,  8000] loss: 1.254\n",
            "[2, 10000] loss: 1.277\n",
            "[2, 12000] loss: 1.262\n",
            "[2, 14000] loss: 1.250\n",
            "[2, 16000] loss: 1.283\n",
            "[2, 18000] loss: 1.260\n",
            "[3,  2000] loss: 1.225\n",
            "[3,  4000] loss: 1.224\n",
            "[3,  6000] loss: 1.254\n",
            "[3,  8000] loss: 1.235\n",
            "[3, 10000] loss: 1.252\n",
            "[3, 12000] loss: 1.217\n",
            "[3, 14000] loss: 1.226\n",
            "[3, 16000] loss: 1.212\n",
            "[3, 18000] loss: 1.250\n",
            "[4,  2000] loss: 1.199\n",
            "[4,  4000] loss: 1.215\n",
            "[4,  6000] loss: 1.227\n",
            "[4,  8000] loss: 1.190\n",
            "[4, 10000] loss: 1.238\n",
            "[4, 12000] loss: 1.213\n",
            "[4, 14000] loss: 1.171\n",
            "[4, 16000] loss: 1.217\n",
            "[4, 18000] loss: 1.197\n",
            "[5,  2000] loss: 1.195\n",
            "[5,  4000] loss: 1.182\n",
            "[5,  6000] loss: 1.217\n",
            "[5,  8000] loss: 1.184\n",
            "[5, 10000] loss: 1.178\n",
            "[5, 12000] loss: 1.199\n",
            "[5, 14000] loss: 1.195\n",
            "[5, 16000] loss: 1.166\n",
            "[5, 18000] loss: 1.210\n"
          ],
          "name": "stdout"
        },
        {
          "output_type": "display_data",
          "data": {
            "image/png": "[encoded data removed]",
            "text/plain": [
              "<Figure size 432x288 with 1 Axes>"
            ]
          },
          "metadata": {
            "tags": [],
            "needs_background": "light"
          }
        }
      ]
    },
    {
      "cell_type": "markdown",
      "metadata": {
        "id": "yCnLhyMWNdU9"
      },
      "source": [
        "Train the model again but this time set the hidden size as 100. \n"
      ]
    },
    {
      "cell_type": "code",
      "metadata": {
        "id": "yZ2AEnXYdVgu",
        "outputId": "a8be935c-3c89-460c-ca7a-8a9cfe8e5512",
        "colab": {
          "base_uri": "https://localhost:8080/",
          "height": 1000
        }
      },
      "source": [
        "# solution here\n",
        "my_neuron = Neuron(100)\n",
        "\n",
        "# create your optimizer\n",
        "criterion = nn.CrossEntropyLoss()\n",
        "optimizer = torch.optim.SGD(my_neuron.parameters(), lr = 0.001, momentum=0.9)\n",
        "\n",
        "device = torch.device(\"cuda:0\" if torch.cuda.is_available() else \"cpu\")\n",
        "\n",
        "# num of epoch\n",
        "stats = []\n",
        "for epoch in range(5):\n",
        "  running_loss = 0.0\n",
        "  for i, data in enumerate(trainloader, 0):\n",
        "    inputs, labels = data\n",
        "    inputs, labels = inputs.to(device), labels.to(device)\n",
        "\n",
        "    ## -- ! code required  \n",
        "    output = my_neuron(inputs)\n",
        "    loss = criterion(output, labels)\n",
        "\n",
        "    optimizer.zero_grad()\n",
        "    loss.backward()\n",
        "    optimizer.step()\n",
        "\n",
        "    # print statistics\n",
        "    running_loss += loss.item()\n",
        "    if i % 2000 == 1999:    # print every 2000 mini-batches\n",
        "        print('[%d, %5d] loss: %.3f' %\n",
        "              (epoch + 1, i + 1, running_loss / 2000))\n",
        "        stats.append(running_loss / 2000)\n",
        "        running_loss = 0.0\n",
        "plt.plot(stats)\n",
        "plt.xlabel('epoch')\n",
        "plt.ylabel('training loss')\n",
        "plt.title('Training Loss history')\n",
        "plt.show()"
      ],
      "execution_count": null,
      "outputs": [
        {
          "output_type": "stream",
          "text": [
            "[1,  2000] loss: 2.131\n",
            "[1,  4000] loss: 1.684\n",
            "[1,  6000] loss: 1.389\n",
            "[1,  8000] loss: 1.248\n",
            "[1, 10000] loss: 1.135\n",
            "[1, 12000] loss: 1.090\n",
            "[1, 14000] loss: 1.044\n",
            "[1, 16000] loss: 0.990\n",
            "[1, 18000] loss: 0.958\n",
            "[2,  2000] loss: 0.940\n",
            "[2,  4000] loss: 0.917\n",
            "[2,  6000] loss: 0.891\n",
            "[2,  8000] loss: 0.852\n",
            "[2, 10000] loss: 0.887\n",
            "[2, 12000] loss: 0.848\n",
            "[2, 14000] loss: 0.812\n",
            "[2, 16000] loss: 0.839\n",
            "[2, 18000] loss: 0.824\n",
            "[3,  2000] loss: 0.745\n",
            "[3,  4000] loss: 0.758\n",
            "[3,  6000] loss: 0.761\n",
            "[3,  8000] loss: 0.759\n",
            "[3, 10000] loss: 0.754\n",
            "[3, 12000] loss: 0.770\n",
            "[3, 14000] loss: 0.742\n",
            "[3, 16000] loss: 0.722\n",
            "[3, 18000] loss: 0.734\n",
            "[4,  2000] loss: 0.701\n",
            "[4,  4000] loss: 0.731\n",
            "[4,  6000] loss: 0.698\n",
            "[4,  8000] loss: 0.655\n",
            "[4, 10000] loss: 0.707\n",
            "[4, 12000] loss: 0.670\n",
            "[4, 14000] loss: 0.668\n",
            "[4, 16000] loss: 0.648\n",
            "[4, 18000] loss: 0.703\n",
            "[5,  2000] loss: 0.621\n",
            "[5,  4000] loss: 0.643\n",
            "[5,  6000] loss: 0.655\n",
            "[5,  8000] loss: 0.633\n",
            "[5, 10000] loss: 0.665\n",
            "[5, 12000] loss: 0.655\n",
            "[5, 14000] loss: 0.626\n",
            "[5, 16000] loss: 0.648\n",
            "[5, 18000] loss: 0.659\n"
          ],
          "name": "stdout"
        },
        {
          "output_type": "display_data",
          "data": {
            "image/png": "[encoded data removed]",
            "text/plain": [
              "<Figure size 432x288 with 1 Axes>"
            ]
          },
          "metadata": {
            "tags": [],
            "needs_background": "light"
          }
        }
      ]
    },
    {
      "cell_type": "code",
      "metadata": {
        "id": "9o_2_j_fbD5t",
        "outputId": "46e695e3-2d81-45e7-abe9-ab501dadf2da",
        "colab": {
          "base_uri": "https://localhost:8080/",
          "height": 50
        }
      },
      "source": [
        "def test_on_SVHN(net, testloader):   \n",
        "      ## -- ! code required\n",
        "      correct = 0\n",
        "      total = 0\n",
        "      with torch.no_grad():\n",
        "          for data in testloader:\n",
        "              images, labels = data[0].to(device), data[1].to(device)\n",
        "              outputs = net(images)\n",
        "              _, predicted = torch.max(outputs.data, 1)\n",
        "              total += labels.size(0)\n",
        "              correct += (predicted == labels).sum().item() \n",
        "      acc =100 * correct / total        \n",
        "      return acc\n",
        "train_acc = test_on_SVHN(my_neuron, trainloader)\n",
        "print('Accuracy of the network on the train images: %d %%' % ( train_acc))\n",
        "acc = test_on_SVHN(my_neuron, testloader)\n",
        "print('Accuracy of the network on the 10000 test images: %d %%' % (acc))"
      ],
      "execution_count": null,
      "outputs": [
        {
          "output_type": "stream",
          "text": [
            "Accuracy of the network on the train images: 82 %\n",
            "Accuracy of the network on the 10000 test images: 78 %\n"
          ],
          "name": "stdout"
        }
      ]
    },
    {
      "cell_type": "code",
      "metadata": {
        "id": "FWWUhJSyjurQ",
        "outputId": "d3801167-80bb-4eea-c36e-9e41bd6e09f7",
        "colab": {
          "base_uri": "https://localhost:8080/",
          "height": 336
        }
      },
      "source": [
        "\n",
        "import torch.optim as optim\n",
        "import torch.nn as nn\n",
        "import torch.nn.functional as F\n",
        "\n",
        "\n",
        "class Net(nn.Module):\n",
        "    def __init__(self):\n",
        "        super(Net, self).__init__()\n",
        "        self.conv1 = nn.Conv2d(3, 6, 5)\n",
        "        self.pool = nn.MaxPool2d(2, 2)\n",
        "        self.conv2 = nn.Conv2d(6, 16, 5)\n",
        "        self.fc1 = nn.Linear(16 * 5 * 5, 64)\n",
        "        self.fc2 = nn.Linear(64, 32)\n",
        "        self.fc3 = nn.Linear(32, 10)\n",
        "\n",
        "    def forward(self, x):\n",
        "        x = self.pool(F.relu(self.conv1(x)))\n",
        "        x = self.pool(F.relu(self.conv2(x)))\n",
        "        x = x.view(-1, 16 * 5 * 5)   # flatten features\n",
        "\n",
        "        x = F.relu(self.fc1(x))\n",
        "        x = F.relu(self.fc2(x))\n",
        "        x = self.fc3(x)\n",
        "        return x\n",
        "net =Net()\n",
        "model_summary(net)"
      ],
      "execution_count": null,
      "outputs": [
        {
          "output_type": "stream",
          "text": [
            "model_summary\n",
            "\n",
            "Layer_name\t\t\t\t\t\t\tNumber of Parameters\n",
            "====================================================================================================\n",
            "\t\t\t\t\t\t\t\t\t\t\n",
            "\n",
            "Conv2d(3, 6, kernel_size=(5, 5), stride=(1, 1))\t\t\t450\n",
            "\n",
            "MaxPool2d(kernel_size=2, stride=2, padding=0, dilation=1, ceil_mode=False)\t\t\t2406\n",
            "\n",
            "Conv2d(6, 16, kernel_size=(5, 5), stride=(1, 1))\t\t\t16\n",
            "\n",
            "Linear(in_features=400, out_features=64, bias=True)\t\t\t25600\n",
            "\n",
            "Linear(in_features=64, out_features=32, bias=True)\t\t\t64\n",
            "\n",
            "Linear(in_features=32, out_features=10, bias=True)\t\t\t2048\n",
            "====================================================================================================\n",
            "Total Params:30584\n"
          ],
          "name": "stdout"
        }
      ]
    },
    {
      "cell_type": "markdown",
      "metadata": {
        "id": "4cGSgfUiNn63"
      },
      "source": [
        "### Q4.6.3\n",
        "\n",
        "Compare the performance when hidden_size=10 with hidden_size=100, and explain the difference."
      ]
    },
    {
      "cell_type": "markdown",
      "metadata": {
        "id": "ybVsEWAeFPqC"
      },
      "source": [
        "larger hidden size means larger parameters. increasing the nubmer of parameters can increase hypothesis function. too many parameters can decrease the trainning error. on the other hand, it may make your data overfitted. "
      ]
    }
  ]
}